{
 "cells": [
  {
   "cell_type": "code",
   "execution_count": 1,
   "id": "17a0eb1b",
   "metadata": {},
   "outputs": [],
   "source": [
    "import pandas as pd\n",
    "import numpy as np\n",
    "import os"
   ]
  },
  {
   "cell_type": "code",
   "execution_count": 2,
   "id": "4be55050",
   "metadata": {},
   "outputs": [],
   "source": [
    "tony_db_2021 = pd.read_csv(r'\\\\192.168.88.18\\oddtech\\AIDAILER\\byjoinmethod_tony_db2021pluscdr2021.csv')\n"
   ]
  },
  {
   "cell_type": "code",
   "execution_count": 3,
   "id": "5a7d5fc0",
   "metadata": {},
   "outputs": [],
   "source": [
    "pd.set_option('display.max_columns',None)"
   ]
  },
  {
   "cell_type": "code",
   "execution_count": 4,
   "id": "7d10bd35",
   "metadata": {},
   "outputs": [
    {
     "data": {
      "text/html": [
       "<div>\n",
       "<style scoped>\n",
       "    .dataframe tbody tr th:only-of-type {\n",
       "        vertical-align: middle;\n",
       "    }\n",
       "\n",
       "    .dataframe tbody tr th {\n",
       "        vertical-align: top;\n",
       "    }\n",
       "\n",
       "    .dataframe thead th {\n",
       "        text-align: right;\n",
       "    }\n",
       "</style>\n",
       "<table border=\"1\" class=\"dataframe\">\n",
       "  <thead>\n",
       "    <tr style=\"text-align: right;\">\n",
       "      <th></th>\n",
       "      <th>Unnamed: 0</th>\n",
       "      <th>FullPhoneNumber</th>\n",
       "      <th>cityname</th>\n",
       "      <th>state</th>\n",
       "      <th>ZipCode</th>\n",
       "      <th>personexactage</th>\n",
       "      <th>IsMobile</th>\n",
       "      <th>estimatedincomecode</th>\n",
       "      <th>CreditRating</th>\n",
       "      <th>NumberOfLinesOfCredit</th>\n",
       "      <th>Credit_RangeOfNewCredit</th>\n",
       "      <th>homeownerprobabilitymodel</th>\n",
       "      <th>Disconnected</th>\n",
       "      <th>National DNC</th>\n",
       "      <th>Internal DNC</th>\n",
       "      <th>Litigator</th>\n",
       "      <th>datetime</th>\n",
       "      <th>duration</th>\n",
       "      <th>day</th>\n",
       "      <th>responsive</th>\n",
       "    </tr>\n",
       "  </thead>\n",
       "  <tbody>\n",
       "    <tr>\n",
       "      <th>0</th>\n",
       "      <td>0</td>\n",
       "      <td>8085360276</td>\n",
       "      <td>Honolulu</td>\n",
       "      <td>HI</td>\n",
       "      <td>96817</td>\n",
       "      <td>61.0</td>\n",
       "      <td>0</td>\n",
       "      <td>M</td>\n",
       "      <td>A</td>\n",
       "      <td>-1.0</td>\n",
       "      <td>-1.0</td>\n",
       "      <td>1.0</td>\n",
       "      <td>0</td>\n",
       "      <td>0</td>\n",
       "      <td>0</td>\n",
       "      <td>0</td>\n",
       "      <td>2021-08-26 20:40:04</td>\n",
       "      <td>0</td>\n",
       "      <td>Thursday</td>\n",
       "      <td>0</td>\n",
       "    </tr>\n",
       "    <tr>\n",
       "      <th>1</th>\n",
       "      <td>1</td>\n",
       "      <td>8086769544</td>\n",
       "      <td>Honolulu</td>\n",
       "      <td>HI</td>\n",
       "      <td>96818</td>\n",
       "      <td>55.0</td>\n",
       "      <td>0</td>\n",
       "      <td>O</td>\n",
       "      <td>D</td>\n",
       "      <td>-1.0</td>\n",
       "      <td>-1.0</td>\n",
       "      <td>1.0</td>\n",
       "      <td>0</td>\n",
       "      <td>0</td>\n",
       "      <td>0</td>\n",
       "      <td>0</td>\n",
       "      <td>2021-08-25 20:59:26</td>\n",
       "      <td>0</td>\n",
       "      <td>Wednesday</td>\n",
       "      <td>0</td>\n",
       "    </tr>\n",
       "    <tr>\n",
       "      <th>2</th>\n",
       "      <td>2</td>\n",
       "      <td>8084974246</td>\n",
       "      <td>Honolulu</td>\n",
       "      <td>HI</td>\n",
       "      <td>96818</td>\n",
       "      <td>64.0</td>\n",
       "      <td>1</td>\n",
       "      <td>M</td>\n",
       "      <td>F</td>\n",
       "      <td>-1.0</td>\n",
       "      <td>-1.0</td>\n",
       "      <td>1.0</td>\n",
       "      <td>0</td>\n",
       "      <td>0</td>\n",
       "      <td>0</td>\n",
       "      <td>0</td>\n",
       "      <td>2021-08-27 17:48:00</td>\n",
       "      <td>0</td>\n",
       "      <td>Friday</td>\n",
       "      <td>0</td>\n",
       "    </tr>\n",
       "  </tbody>\n",
       "</table>\n",
       "</div>"
      ],
      "text/plain": [
       "   Unnamed: 0  FullPhoneNumber  cityname state  ZipCode  personexactage  \\\n",
       "0           0       8085360276  Honolulu    HI    96817            61.0   \n",
       "1           1       8086769544  Honolulu    HI    96818            55.0   \n",
       "2           2       8084974246  Honolulu    HI    96818            64.0   \n",
       "\n",
       "   IsMobile estimatedincomecode CreditRating  NumberOfLinesOfCredit  \\\n",
       "0         0                   M            A                   -1.0   \n",
       "1         0                   O            D                   -1.0   \n",
       "2         1                   M            F                   -1.0   \n",
       "\n",
       "   Credit_RangeOfNewCredit  homeownerprobabilitymodel  Disconnected  \\\n",
       "0                     -1.0                        1.0             0   \n",
       "1                     -1.0                        1.0             0   \n",
       "2                     -1.0                        1.0             0   \n",
       "\n",
       "   National DNC  Internal DNC  Litigator             datetime  duration  \\\n",
       "0             0             0          0  2021-08-26 20:40:04         0   \n",
       "1             0             0          0  2021-08-25 20:59:26         0   \n",
       "2             0             0          0  2021-08-27 17:48:00         0   \n",
       "\n",
       "         day  responsive  \n",
       "0   Thursday           0  \n",
       "1  Wednesday           0  \n",
       "2     Friday           0  "
      ]
     },
     "execution_count": 4,
     "metadata": {},
     "output_type": "execute_result"
    }
   ],
   "source": [
    "tony_db_2021.head(3)"
   ]
  },
  {
   "cell_type": "code",
   "execution_count": null,
   "id": "be1fe25e",
   "metadata": {},
   "outputs": [],
   "source": [
    "tony_db_2021.head()"
   ]
  },
  {
   "cell_type": "code",
   "execution_count": null,
   "id": "6bdc1657",
   "metadata": {},
   "outputs": [],
   "source": [
    "tony_db_2021['datetime']"
   ]
  },
  {
   "cell_type": "code",
   "execution_count": 5,
   "id": "a1d19b15",
   "metadata": {},
   "outputs": [
    {
     "data": {
      "text/html": [
       "<div>\n",
       "<style scoped>\n",
       "    .dataframe tbody tr th:only-of-type {\n",
       "        vertical-align: middle;\n",
       "    }\n",
       "\n",
       "    .dataframe tbody tr th {\n",
       "        vertical-align: top;\n",
       "    }\n",
       "\n",
       "    .dataframe thead th {\n",
       "        text-align: right;\n",
       "    }\n",
       "</style>\n",
       "<table border=\"1\" class=\"dataframe\">\n",
       "  <thead>\n",
       "    <tr style=\"text-align: right;\">\n",
       "      <th></th>\n",
       "      <th>state</th>\n",
       "      <th>personexactage</th>\n",
       "      <th>IsMobile</th>\n",
       "      <th>estimatedincomecode</th>\n",
       "      <th>day</th>\n",
       "      <th>duration</th>\n",
       "    </tr>\n",
       "  </thead>\n",
       "  <tbody>\n",
       "    <tr>\n",
       "      <th>0</th>\n",
       "      <td>HI</td>\n",
       "      <td>61.0</td>\n",
       "      <td>0</td>\n",
       "      <td>M</td>\n",
       "      <td>Thursday</td>\n",
       "      <td>0</td>\n",
       "    </tr>\n",
       "    <tr>\n",
       "      <th>1</th>\n",
       "      <td>HI</td>\n",
       "      <td>55.0</td>\n",
       "      <td>0</td>\n",
       "      <td>O</td>\n",
       "      <td>Wednesday</td>\n",
       "      <td>0</td>\n",
       "    </tr>\n",
       "    <tr>\n",
       "      <th>2</th>\n",
       "      <td>HI</td>\n",
       "      <td>64.0</td>\n",
       "      <td>1</td>\n",
       "      <td>M</td>\n",
       "      <td>Friday</td>\n",
       "      <td>0</td>\n",
       "    </tr>\n",
       "    <tr>\n",
       "      <th>3</th>\n",
       "      <td>HI</td>\n",
       "      <td>74.0</td>\n",
       "      <td>0</td>\n",
       "      <td>N</td>\n",
       "      <td>Friday</td>\n",
       "      <td>277</td>\n",
       "    </tr>\n",
       "    <tr>\n",
       "      <th>4</th>\n",
       "      <td>HI</td>\n",
       "      <td>74.0</td>\n",
       "      <td>0</td>\n",
       "      <td>N</td>\n",
       "      <td>Tuesday</td>\n",
       "      <td>0</td>\n",
       "    </tr>\n",
       "  </tbody>\n",
       "</table>\n",
       "</div>"
      ],
      "text/plain": [
       "  state  personexactage  IsMobile estimatedincomecode        day  duration\n",
       "0    HI            61.0         0                   M   Thursday         0\n",
       "1    HI            55.0         0                   O  Wednesday         0\n",
       "2    HI            64.0         1                   M     Friday         0\n",
       "3    HI            74.0         0                   N     Friday       277\n",
       "4    HI            74.0         0                   N    Tuesday         0"
      ]
     },
     "execution_count": 5,
     "metadata": {},
     "output_type": "execute_result"
    }
   ],
   "source": [
    "fortrainData = tony_db_2021[['state','personexactage','IsMobile','estimatedincomecode' ,'day', 'duration']]\n",
    "fortrainData.head()"
   ]
  },
  {
   "cell_type": "code",
   "execution_count": 6,
   "id": "b53d4652",
   "metadata": {},
   "outputs": [
    {
     "data": {
      "text/plain": [
       "1228277"
      ]
     },
     "execution_count": 6,
     "metadata": {},
     "output_type": "execute_result"
    }
   ],
   "source": [
    "len(fortrainData.isnull())"
   ]
  },
  {
   "cell_type": "markdown",
   "id": "f4663398",
   "metadata": {},
   "source": [
    "# Removing Unknown Values"
   ]
  },
  {
   "cell_type": "code",
   "execution_count": 7,
   "id": "910d65a7",
   "metadata": {},
   "outputs": [],
   "source": [
    "fortrainData = fortrainData[fortrainData['estimatedincomecode'] != 'U']"
   ]
  },
  {
   "cell_type": "code",
   "execution_count": 8,
   "id": "e097e270",
   "metadata": {},
   "outputs": [],
   "source": [
    "fortrainData = fortrainData[fortrainData['personexactage'] != 'U']"
   ]
  },
  {
   "cell_type": "code",
   "execution_count": 9,
   "id": "4c9c5b2c",
   "metadata": {},
   "outputs": [],
   "source": [
    "fortrainData = fortrainData[fortrainData['state'] != 'U']"
   ]
  },
  {
   "cell_type": "code",
   "execution_count": 10,
   "id": "24647274",
   "metadata": {},
   "outputs": [],
   "source": [
    "fortrainData = fortrainData[fortrainData['day'] != 'U']"
   ]
  },
  {
   "cell_type": "code",
   "execution_count": 11,
   "id": "db43e559",
   "metadata": {},
   "outputs": [],
   "source": [
    "fortrainData = fortrainData[fortrainData['duration'] != 'U']"
   ]
  },
  {
   "cell_type": "code",
   "execution_count": 12,
   "id": "1ead5706",
   "metadata": {},
   "outputs": [],
   "source": [
    "fortrainData = fortrainData[fortrainData['IsMobile'] != 'U']"
   ]
  },
  {
   "cell_type": "code",
   "execution_count": 13,
   "id": "c2b3cb84",
   "metadata": {},
   "outputs": [
    {
     "data": {
      "text/html": [
       "<div>\n",
       "<style scoped>\n",
       "    .dataframe tbody tr th:only-of-type {\n",
       "        vertical-align: middle;\n",
       "    }\n",
       "\n",
       "    .dataframe tbody tr th {\n",
       "        vertical-align: top;\n",
       "    }\n",
       "\n",
       "    .dataframe thead th {\n",
       "        text-align: right;\n",
       "    }\n",
       "</style>\n",
       "<table border=\"1\" class=\"dataframe\">\n",
       "  <thead>\n",
       "    <tr style=\"text-align: right;\">\n",
       "      <th></th>\n",
       "      <th>state</th>\n",
       "      <th>personexactage</th>\n",
       "      <th>IsMobile</th>\n",
       "      <th>estimatedincomecode</th>\n",
       "      <th>day</th>\n",
       "      <th>duration</th>\n",
       "    </tr>\n",
       "  </thead>\n",
       "  <tbody>\n",
       "    <tr>\n",
       "      <th>0</th>\n",
       "      <td>HI</td>\n",
       "      <td>61.0</td>\n",
       "      <td>0</td>\n",
       "      <td>M</td>\n",
       "      <td>Thursday</td>\n",
       "      <td>0</td>\n",
       "    </tr>\n",
       "    <tr>\n",
       "      <th>1</th>\n",
       "      <td>HI</td>\n",
       "      <td>55.0</td>\n",
       "      <td>0</td>\n",
       "      <td>O</td>\n",
       "      <td>Wednesday</td>\n",
       "      <td>0</td>\n",
       "    </tr>\n",
       "    <tr>\n",
       "      <th>2</th>\n",
       "      <td>HI</td>\n",
       "      <td>64.0</td>\n",
       "      <td>1</td>\n",
       "      <td>M</td>\n",
       "      <td>Friday</td>\n",
       "      <td>0</td>\n",
       "    </tr>\n",
       "    <tr>\n",
       "      <th>3</th>\n",
       "      <td>HI</td>\n",
       "      <td>74.0</td>\n",
       "      <td>0</td>\n",
       "      <td>N</td>\n",
       "      <td>Friday</td>\n",
       "      <td>277</td>\n",
       "    </tr>\n",
       "    <tr>\n",
       "      <th>4</th>\n",
       "      <td>HI</td>\n",
       "      <td>74.0</td>\n",
       "      <td>0</td>\n",
       "      <td>N</td>\n",
       "      <td>Tuesday</td>\n",
       "      <td>0</td>\n",
       "    </tr>\n",
       "  </tbody>\n",
       "</table>\n",
       "</div>"
      ],
      "text/plain": [
       "  state  personexactage  IsMobile estimatedincomecode        day  duration\n",
       "0    HI            61.0         0                   M   Thursday         0\n",
       "1    HI            55.0         0                   O  Wednesday         0\n",
       "2    HI            64.0         1                   M     Friday         0\n",
       "3    HI            74.0         0                   N     Friday       277\n",
       "4    HI            74.0         0                   N    Tuesday         0"
      ]
     },
     "execution_count": 13,
     "metadata": {},
     "output_type": "execute_result"
    }
   ],
   "source": [
    "fortrainData.head()"
   ]
  },
  {
   "cell_type": "code",
   "execution_count": 14,
   "id": "5c9f5453",
   "metadata": {},
   "outputs": [],
   "source": [
    "fortrainData['personexactage'] = fortrainData['personexactage'].astype(int)"
   ]
  },
  {
   "cell_type": "code",
   "execution_count": 15,
   "id": "acb0db0a",
   "metadata": {},
   "outputs": [],
   "source": [
    "for_model= fortrainData.copy()"
   ]
  },
  {
   "cell_type": "markdown",
   "id": "2da8023d",
   "metadata": {},
   "source": [
    "# Encoding State"
   ]
  },
  {
   "cell_type": "code",
   "execution_count": 16,
   "id": "5ec38a3f",
   "metadata": {},
   "outputs": [
    {
     "name": "stdout",
     "output_type": "stream",
     "text": [
      "state\n",
      "AK       347\n",
      "AL    106803\n",
      "AR     33284\n",
      "AZ     47709\n",
      "CO     43609\n",
      "CT     64944\n",
      "DC     11402\n",
      "DE     15506\n",
      "HI       381\n",
      "IA     56757\n",
      "ID     22016\n",
      "KS     33475\n",
      "KY     59665\n",
      "ME     22163\n",
      "MN     37748\n",
      "MO     84111\n",
      "MS     41072\n",
      "MT     17607\n",
      "ND      8322\n",
      "NE     20167\n",
      "NH     17128\n",
      "NM     19020\n",
      "NV     31510\n",
      "OK     37069\n",
      "OR     42186\n",
      "RI     19726\n",
      "SC     57622\n",
      "SD      8365\n",
      "TN     76462\n",
      "UT     28847\n",
      "WA     54034\n",
      "WI     73930\n",
      "WV     25077\n",
      "WY      5488\n",
      "dtype: int64\n",
      "34\n",
      "{'WA', 'KY', 'SC', 'TN', 'CO', 'MT', 'CT', 'DE', 'AR', 'NH', 'DC', 'RI', 'WV', 'HI', 'IA', 'KS', 'NV', 'OR', 'WI', 'SD', 'AL', 'OK', 'WY', 'NE', 'AK', 'MS', 'AZ', 'ID', 'MO', 'NM', 'ME', 'UT', 'MN', 'ND'}\n"
     ]
    }
   ],
   "source": [
    "print(fortrainData.groupby('state').size())\n",
    "print(len(fortrainData.groupby('state')))\n",
    "print(set(fortrainData['state']))"
   ]
  },
  {
   "cell_type": "markdown",
   "id": "6714cada",
   "metadata": {},
   "source": [
    "### Indexing"
   ]
  },
  {
   "cell_type": "code",
   "execution_count": 17,
   "id": "7599c8ba",
   "metadata": {},
   "outputs": [
    {
     "data": {
      "text/plain": [
       "state\n",
       "0      54034\n",
       "1      59665\n",
       "2      57622\n",
       "3      76462\n",
       "4      43609\n",
       "5      17607\n",
       "6      64944\n",
       "7      15506\n",
       "8      33284\n",
       "9      17128\n",
       "10     11402\n",
       "11     19726\n",
       "12     25077\n",
       "13       381\n",
       "14     56757\n",
       "15     33475\n",
       "16     31510\n",
       "17     42186\n",
       "18     73930\n",
       "19      8365\n",
       "20    106803\n",
       "21     37069\n",
       "22      5488\n",
       "23     20167\n",
       "24       347\n",
       "25     41072\n",
       "26     47709\n",
       "27     22016\n",
       "28     84111\n",
       "29     19020\n",
       "30     22163\n",
       "31     28847\n",
       "32     37748\n",
       "33      8322\n",
       "dtype: int64"
      ]
     },
     "execution_count": 17,
     "metadata": {},
     "output_type": "execute_result"
    }
   ],
   "source": [
    "fortrainData['state'].replace(to_replace = set(fortrainData['state']), value = np.arange(0,34), inplace = True)\n",
    "fortrainData.groupby('state').size()\n"
   ]
  },
  {
   "cell_type": "markdown",
   "id": "47606813",
   "metadata": {},
   "source": [
    "### One-hot encoding state column"
   ]
  },
  {
   "cell_type": "code",
   "execution_count": 18,
   "id": "64a352f9",
   "metadata": {},
   "outputs": [
    {
     "data": {
      "text/plain": [
       "array([[0., 0., 0., ..., 0., 0., 0.],\n",
       "       [0., 0., 0., ..., 0., 0., 0.],\n",
       "       [0., 0., 0., ..., 0., 0., 0.],\n",
       "       ...,\n",
       "       [0., 0., 0., ..., 0., 0., 0.],\n",
       "       [0., 0., 0., ..., 0., 0., 0.],\n",
       "       [0., 0., 0., ..., 0., 0., 0.]], dtype=float32)"
      ]
     },
     "execution_count": 18,
     "metadata": {},
     "output_type": "execute_result"
    }
   ],
   "source": [
    "from tensorflow.keras.utils import to_categorical\n",
    "state_encoded_data = to_categorical(fortrainData['state'])\n",
    "state_encoded_data\n"
   ]
  },
  {
   "cell_type": "markdown",
   "id": "7dd4b306",
   "metadata": {},
   "source": [
    "# Encoding Income Data"
   ]
  },
  {
   "cell_type": "code",
   "execution_count": 19,
   "id": "18af2d9c",
   "metadata": {},
   "outputs": [
    {
     "name": "stdout",
     "output_type": "stream",
     "text": [
      "estimatedincomecode\n",
      "A     41257\n",
      "B    139621\n",
      "C     54703\n",
      "D     30354\n",
      "E     74349\n",
      "F     32080\n",
      "G     66151\n",
      "H     35715\n",
      "I     68935\n",
      "J     41435\n",
      "K     73067\n",
      "L     49496\n",
      "M     92943\n",
      "N    185469\n",
      "O    145576\n",
      "P     19019\n",
      "Q     26774\n",
      "R     21629\n",
      "S     24979\n",
      "dtype: int64\n",
      "19\n",
      "{'Q', 'R', 'O', 'K', 'C', 'M', 'H', 'S', 'L', 'B', 'I', 'G', 'A', 'F', 'J', 'N', 'D', 'E', 'P'}\n"
     ]
    }
   ],
   "source": [
    "print(fortrainData.groupby('estimatedincomecode').size())\n",
    "print(len(fortrainData.groupby('estimatedincomecode')))\n",
    "print(set(fortrainData['estimatedincomecode']))"
   ]
  },
  {
   "cell_type": "markdown",
   "id": "00d2fa0a",
   "metadata": {},
   "source": [
    "### Indexing Income data"
   ]
  },
  {
   "cell_type": "code",
   "execution_count": 20,
   "id": "b3a7a7b8",
   "metadata": {},
   "outputs": [
    {
     "data": {
      "text/plain": [
       "estimatedincomecode\n",
       "0      26774\n",
       "1      21629\n",
       "2     145576\n",
       "3      73067\n",
       "4      54703\n",
       "5      92943\n",
       "6      35715\n",
       "7      24979\n",
       "8      49496\n",
       "9     139621\n",
       "10     68935\n",
       "11     66151\n",
       "12     41257\n",
       "13     32080\n",
       "14     41435\n",
       "15    185469\n",
       "16     30354\n",
       "17     74349\n",
       "18     19019\n",
       "dtype: int64"
      ]
     },
     "execution_count": 20,
     "metadata": {},
     "output_type": "execute_result"
    }
   ],
   "source": [
    "fortrainData['estimatedincomecode'].replace(to_replace = set(fortrainData['estimatedincomecode']), value = np.arange(0,19), inplace = True)\n",
    "fortrainData.groupby('estimatedincomecode').size()"
   ]
  },
  {
   "cell_type": "markdown",
   "id": "3ec2e7ba",
   "metadata": {},
   "source": [
    "### One-hot encoding income column"
   ]
  },
  {
   "cell_type": "code",
   "execution_count": 21,
   "id": "d44efea7",
   "metadata": {},
   "outputs": [
    {
     "data": {
      "text/plain": [
       "array([[0., 0., 0., ..., 0., 0., 0.],\n",
       "       [0., 0., 1., ..., 0., 0., 0.],\n",
       "       [0., 0., 0., ..., 0., 0., 0.],\n",
       "       ...,\n",
       "       [0., 0., 0., ..., 0., 0., 0.],\n",
       "       [0., 0., 0., ..., 0., 0., 0.],\n",
       "       [0., 0., 0., ..., 0., 1., 0.]], dtype=float32)"
      ]
     },
     "execution_count": 21,
     "metadata": {},
     "output_type": "execute_result"
    }
   ],
   "source": [
    "from tensorflow.keras.utils import to_categorical\n",
    "income_encoded_data = to_categorical(fortrainData['estimatedincomecode'])\n",
    "income_encoded_data\n"
   ]
  },
  {
   "cell_type": "markdown",
   "id": "39ffb626",
   "metadata": {},
   "source": [
    "# Encoding Day Data"
   ]
  },
  {
   "cell_type": "code",
   "execution_count": 22,
   "id": "70fad120",
   "metadata": {},
   "outputs": [
    {
     "name": "stdout",
     "output_type": "stream",
     "text": [
      "day\n",
      "Friday       233027\n",
      "Monday       315966\n",
      "Saturday      47914\n",
      "Thursday     243315\n",
      "Tuesday      221009\n",
      "Wednesday    162321\n",
      "dtype: int64\n",
      "6\n",
      "{'Friday', 'Thursday', 'Tuesday', 'Monday', 'Saturday', 'Wednesday'}\n"
     ]
    }
   ],
   "source": [
    "print(fortrainData.groupby('day').size())\n",
    "print(len(fortrainData.groupby('day')))\n",
    "print(set(fortrainData['day']))"
   ]
  },
  {
   "cell_type": "markdown",
   "id": "9ced3f34",
   "metadata": {},
   "source": [
    "### Indexing day data"
   ]
  },
  {
   "cell_type": "code",
   "execution_count": 23,
   "id": "12e6275d",
   "metadata": {},
   "outputs": [
    {
     "data": {
      "text/plain": [
       "day\n",
       "0    233027\n",
       "1    243315\n",
       "2    221009\n",
       "3    315966\n",
       "4     47914\n",
       "5    162321\n",
       "dtype: int64"
      ]
     },
     "execution_count": 23,
     "metadata": {},
     "output_type": "execute_result"
    }
   ],
   "source": [
    "fortrainData['day'].replace(to_replace = set(fortrainData['day']), value = np.arange(0,6), inplace = True)\n",
    "fortrainData.groupby('day').size()"
   ]
  },
  {
   "cell_type": "markdown",
   "id": "5d64be83",
   "metadata": {},
   "source": [
    "### One-hot encoding day column"
   ]
  },
  {
   "cell_type": "code",
   "execution_count": 24,
   "id": "e3f55637",
   "metadata": {},
   "outputs": [
    {
     "data": {
      "text/plain": [
       "array([[0., 1., 0., 0., 0., 0.],\n",
       "       [0., 0., 0., 0., 0., 1.],\n",
       "       [1., 0., 0., 0., 0., 0.],\n",
       "       ...,\n",
       "       [0., 0., 0., 1., 0., 0.],\n",
       "       [0., 1., 0., 0., 0., 0.],\n",
       "       [0., 0., 0., 0., 1., 0.]], dtype=float32)"
      ]
     },
     "execution_count": 24,
     "metadata": {},
     "output_type": "execute_result"
    }
   ],
   "source": [
    "day_encoded_data = to_categorical(fortrainData['day'])\n",
    "day_encoded_data"
   ]
  },
  {
   "cell_type": "code",
   "execution_count": 25,
   "id": "fb5e1763",
   "metadata": {},
   "outputs": [
    {
     "data": {
      "text/plain": [
       "array([[0., 1., 0., 0., 0., 0.],\n",
       "       [0., 0., 0., 0., 0., 1.],\n",
       "       [1., 0., 0., 0., 0., 0.],\n",
       "       ...,\n",
       "       [0., 0., 0., 1., 0., 0.],\n",
       "       [0., 1., 0., 0., 0., 0.],\n",
       "       [0., 0., 0., 0., 1., 0.]], dtype=float32)"
      ]
     },
     "execution_count": 25,
     "metadata": {},
     "output_type": "execute_result"
    }
   ],
   "source": [
    "day_encoded_data"
   ]
  },
  {
   "cell_type": "code",
   "execution_count": 26,
   "id": "5e5084be",
   "metadata": {},
   "outputs": [
    {
     "name": "stdout",
     "output_type": "stream",
     "text": [
      "1223552\n",
      "1223552\n",
      "1223552\n",
      "1223552\n",
      "1223552\n"
     ]
    }
   ],
   "source": [
    "print(len(state_encoded_data))\n",
    "print(len(income_encoded_data))\n",
    "print(len(day_encoded_data))\n",
    "print(len(fortrainData['personexactage']))\n",
    "print(len(fortrainData['IsMobile']))"
   ]
  },
  {
   "cell_type": "code",
   "execution_count": 27,
   "id": "b6633a2a",
   "metadata": {},
   "outputs": [
    {
     "data": {
      "text/plain": [
       "((1223552, 34), (1223552, 19), (1223552, 6))"
      ]
     },
     "execution_count": 27,
     "metadata": {},
     "output_type": "execute_result"
    }
   ],
   "source": [
    "state_encoded_data.shape,income_encoded_data.shape, day_encoded_data.shape"
   ]
  },
  {
   "cell_type": "code",
   "execution_count": 28,
   "id": "b052c09e",
   "metadata": {},
   "outputs": [
    {
     "data": {
      "text/html": [
       "<div>\n",
       "<style scoped>\n",
       "    .dataframe tbody tr th:only-of-type {\n",
       "        vertical-align: middle;\n",
       "    }\n",
       "\n",
       "    .dataframe tbody tr th {\n",
       "        vertical-align: top;\n",
       "    }\n",
       "\n",
       "    .dataframe thead th {\n",
       "        text-align: right;\n",
       "    }\n",
       "</style>\n",
       "<table border=\"1\" class=\"dataframe\">\n",
       "  <thead>\n",
       "    <tr style=\"text-align: right;\">\n",
       "      <th></th>\n",
       "      <th>personexactage</th>\n",
       "      <th>IsMobile</th>\n",
       "    </tr>\n",
       "  </thead>\n",
       "  <tbody>\n",
       "    <tr>\n",
       "      <th>0</th>\n",
       "      <td>61</td>\n",
       "      <td>0</td>\n",
       "    </tr>\n",
       "    <tr>\n",
       "      <th>1</th>\n",
       "      <td>55</td>\n",
       "      <td>0</td>\n",
       "    </tr>\n",
       "    <tr>\n",
       "      <th>2</th>\n",
       "      <td>64</td>\n",
       "      <td>1</td>\n",
       "    </tr>\n",
       "    <tr>\n",
       "      <th>3</th>\n",
       "      <td>74</td>\n",
       "      <td>0</td>\n",
       "    </tr>\n",
       "    <tr>\n",
       "      <th>4</th>\n",
       "      <td>74</td>\n",
       "      <td>0</td>\n",
       "    </tr>\n",
       "    <tr>\n",
       "      <th>...</th>\n",
       "      <td>...</td>\n",
       "      <td>...</td>\n",
       "    </tr>\n",
       "    <tr>\n",
       "      <th>1228272</th>\n",
       "      <td>63</td>\n",
       "      <td>0</td>\n",
       "    </tr>\n",
       "    <tr>\n",
       "      <th>1228273</th>\n",
       "      <td>63</td>\n",
       "      <td>0</td>\n",
       "    </tr>\n",
       "    <tr>\n",
       "      <th>1228274</th>\n",
       "      <td>63</td>\n",
       "      <td>0</td>\n",
       "    </tr>\n",
       "    <tr>\n",
       "      <th>1228275</th>\n",
       "      <td>63</td>\n",
       "      <td>0</td>\n",
       "    </tr>\n",
       "    <tr>\n",
       "      <th>1228276</th>\n",
       "      <td>40</td>\n",
       "      <td>1</td>\n",
       "    </tr>\n",
       "  </tbody>\n",
       "</table>\n",
       "<p>1223552 rows × 2 columns</p>\n",
       "</div>"
      ],
      "text/plain": [
       "         personexactage  IsMobile\n",
       "0                    61         0\n",
       "1                    55         0\n",
       "2                    64         1\n",
       "3                    74         0\n",
       "4                    74         0\n",
       "...                 ...       ...\n",
       "1228272              63         0\n",
       "1228273              63         0\n",
       "1228274              63         0\n",
       "1228275              63         0\n",
       "1228276              40         1\n",
       "\n",
       "[1223552 rows x 2 columns]"
      ]
     },
     "execution_count": 28,
     "metadata": {},
     "output_type": "execute_result"
    }
   ],
   "source": [
    "train_data = fortrainData[['personexactage' , 'IsMobile']]\n",
    "train_data"
   ]
  },
  {
   "cell_type": "markdown",
   "id": "546a96fd",
   "metadata": {},
   "source": [
    "# SPLITING DATA"
   ]
  },
  {
   "cell_type": "code",
   "execution_count": 29,
   "id": "761d6292",
   "metadata": {},
   "outputs": [
    {
     "name": "stdout",
     "output_type": "stream",
     "text": [
      "Train Data          personexactage  IsMobile\n",
      "743254               54         0\n",
      "40455                54         1\n",
      "1097773              80         0\n",
      "1226347              67         1\n",
      "1131754              69         0\n",
      "...                 ...       ...\n",
      "361023               41         1\n",
      "152796               68         0\n",
      "967057               82         1\n",
      "118308               69         1\n",
      "306840               87         0\n",
      "\n",
      "[917664 rows x 2 columns] \n",
      " Lenght of train Data 917664\n",
      "Test Data          personexactage  IsMobile\n",
      "126876               60         1\n",
      "1163197              82         0\n",
      "390985               52         1\n",
      "857330               50         1\n",
      "108431               70         1\n",
      "...                 ...       ...\n",
      "793413               70         1\n",
      "1161681              82         0\n",
      "938160               78         1\n",
      "377433               87         0\n",
      "896150               37         1\n",
      "\n",
      "[305888 rows x 2 columns] \n",
      " Lenght of Test Data 305888\n"
     ]
    }
   ],
   "source": [
    "from sklearn.model_selection import train_test_split\n",
    "\n",
    "# Seperating Data \"sklearn\" buildin Model\n",
    "X = train_data\n",
    "# Seperating Variables\n",
    "y = fortrainData['duration']\n",
    "\n",
    "# Spliting Data into two type(train, test)\n",
    "train_X, test_X, train_y, test_y = train_test_split(X, y, random_state = 0)\n",
    "print('Train Data',train_X,'\\n Lenght of train Data', len(train_X))\n",
    "print('Test Data',test_X,'\\n Lenght of Test Data', len(test_X))"
   ]
  },
  {
   "cell_type": "code",
   "execution_count": 30,
   "id": "994139a7",
   "metadata": {},
   "outputs": [
    {
     "name": "stdout",
     "output_type": "stream",
     "text": [
      "Model Trained\n"
     ]
    }
   ],
   "source": [
    "from sklearn.linear_model import LinearRegression\n",
    "\n",
    "# Using Regression Model\n",
    "regression = LinearRegression()\n",
    "regression.fit(train_X, train_y)\n",
    "print('Model Trained')"
   ]
  },
  {
   "cell_type": "markdown",
   "id": "035af98b",
   "metadata": {},
   "source": [
    "# Predicting Test Data"
   ]
  },
  {
   "cell_type": "code",
   "execution_count": 31,
   "id": "5efe2552",
   "metadata": {},
   "outputs": [],
   "source": [
    "pred_test_data = regression.predict(test_X)"
   ]
  },
  {
   "cell_type": "code",
   "execution_count": 32,
   "id": "9afabf5f",
   "metadata": {},
   "outputs": [
    {
     "data": {
      "text/plain": [
       "126876      0\n",
       "1163197    28\n",
       "390985      8\n",
       "857330      0\n",
       "108431      0\n",
       "           ..\n",
       "793413      0\n",
       "1161681     0\n",
       "938160     11\n",
       "377433      0\n",
       "896150      0\n",
       "Name: duration, Length: 305888, dtype: int64"
      ]
     },
     "execution_count": 32,
     "metadata": {},
     "output_type": "execute_result"
    }
   ],
   "source": [
    "len(test_y)\n",
    "test_y"
   ]
  },
  {
   "cell_type": "code",
   "execution_count": 33,
   "id": "116bd0b0",
   "metadata": {},
   "outputs": [
    {
     "data": {
      "text/plain": [
       "305888"
      ]
     },
     "execution_count": 33,
     "metadata": {},
     "output_type": "execute_result"
    }
   ],
   "source": [
    "len(pred_test_data)"
   ]
  },
  {
   "cell_type": "markdown",
   "id": "d11f0d06",
   "metadata": {},
   "source": [
    "# Gathering Results"
   ]
  },
  {
   "cell_type": "code",
   "execution_count": 34,
   "id": "4805c043",
   "metadata": {},
   "outputs": [
    {
     "data": {
      "text/html": [
       "<div>\n",
       "<style scoped>\n",
       "    .dataframe tbody tr th:only-of-type {\n",
       "        vertical-align: middle;\n",
       "    }\n",
       "\n",
       "    .dataframe tbody tr th {\n",
       "        vertical-align: top;\n",
       "    }\n",
       "\n",
       "    .dataframe thead th {\n",
       "        text-align: right;\n",
       "    }\n",
       "</style>\n",
       "<table border=\"1\" class=\"dataframe\">\n",
       "  <thead>\n",
       "    <tr style=\"text-align: right;\">\n",
       "      <th></th>\n",
       "      <th>personexactage</th>\n",
       "      <th>IsMobile</th>\n",
       "    </tr>\n",
       "  </thead>\n",
       "  <tbody>\n",
       "    <tr>\n",
       "      <th>126876</th>\n",
       "      <td>60</td>\n",
       "      <td>1</td>\n",
       "    </tr>\n",
       "    <tr>\n",
       "      <th>1163197</th>\n",
       "      <td>82</td>\n",
       "      <td>0</td>\n",
       "    </tr>\n",
       "    <tr>\n",
       "      <th>390985</th>\n",
       "      <td>52</td>\n",
       "      <td>1</td>\n",
       "    </tr>\n",
       "    <tr>\n",
       "      <th>857330</th>\n",
       "      <td>50</td>\n",
       "      <td>1</td>\n",
       "    </tr>\n",
       "    <tr>\n",
       "      <th>108431</th>\n",
       "      <td>70</td>\n",
       "      <td>1</td>\n",
       "    </tr>\n",
       "    <tr>\n",
       "      <th>...</th>\n",
       "      <td>...</td>\n",
       "      <td>...</td>\n",
       "    </tr>\n",
       "    <tr>\n",
       "      <th>793413</th>\n",
       "      <td>70</td>\n",
       "      <td>1</td>\n",
       "    </tr>\n",
       "    <tr>\n",
       "      <th>1161681</th>\n",
       "      <td>82</td>\n",
       "      <td>0</td>\n",
       "    </tr>\n",
       "    <tr>\n",
       "      <th>938160</th>\n",
       "      <td>78</td>\n",
       "      <td>1</td>\n",
       "    </tr>\n",
       "    <tr>\n",
       "      <th>377433</th>\n",
       "      <td>87</td>\n",
       "      <td>0</td>\n",
       "    </tr>\n",
       "    <tr>\n",
       "      <th>896150</th>\n",
       "      <td>37</td>\n",
       "      <td>1</td>\n",
       "    </tr>\n",
       "  </tbody>\n",
       "</table>\n",
       "<p>305888 rows × 2 columns</p>\n",
       "</div>"
      ],
      "text/plain": [
       "         personexactage  IsMobile\n",
       "126876               60         1\n",
       "1163197              82         0\n",
       "390985               52         1\n",
       "857330               50         1\n",
       "108431               70         1\n",
       "...                 ...       ...\n",
       "793413               70         1\n",
       "1161681              82         0\n",
       "938160               78         1\n",
       "377433               87         0\n",
       "896150               37         1\n",
       "\n",
       "[305888 rows x 2 columns]"
      ]
     },
     "execution_count": 34,
     "metadata": {},
     "output_type": "execute_result"
    }
   ],
   "source": [
    "PredictDataFrame = pd.DataFrame(test_X)\n",
    "PredictDataFrame"
   ]
  },
  {
   "cell_type": "code",
   "execution_count": 35,
   "id": "ef3ece92",
   "metadata": {},
   "outputs": [],
   "source": [
    "PredictDataFrame['Predicted Duration'] = pred_test_data"
   ]
  },
  {
   "cell_type": "code",
   "execution_count": 36,
   "id": "7578caf7",
   "metadata": {},
   "outputs": [],
   "source": [
    "PredictDataFrame['Actural Duration'] = test_y\n"
   ]
  },
  {
   "cell_type": "code",
   "execution_count": 37,
   "id": "4db6f376",
   "metadata": {},
   "outputs": [
    {
     "data": {
      "text/html": [
       "<div>\n",
       "<style scoped>\n",
       "    .dataframe tbody tr th:only-of-type {\n",
       "        vertical-align: middle;\n",
       "    }\n",
       "\n",
       "    .dataframe tbody tr th {\n",
       "        vertical-align: top;\n",
       "    }\n",
       "\n",
       "    .dataframe thead th {\n",
       "        text-align: right;\n",
       "    }\n",
       "</style>\n",
       "<table border=\"1\" class=\"dataframe\">\n",
       "  <thead>\n",
       "    <tr style=\"text-align: right;\">\n",
       "      <th></th>\n",
       "      <th>personexactage</th>\n",
       "      <th>IsMobile</th>\n",
       "      <th>Predicted Duration</th>\n",
       "      <th>Actural Duration</th>\n",
       "    </tr>\n",
       "  </thead>\n",
       "  <tbody>\n",
       "    <tr>\n",
       "      <th>126876</th>\n",
       "      <td>60</td>\n",
       "      <td>1</td>\n",
       "      <td>14.047771</td>\n",
       "      <td>0</td>\n",
       "    </tr>\n",
       "    <tr>\n",
       "      <th>1163197</th>\n",
       "      <td>82</td>\n",
       "      <td>0</td>\n",
       "      <td>18.506239</td>\n",
       "      <td>28</td>\n",
       "    </tr>\n",
       "    <tr>\n",
       "      <th>390985</th>\n",
       "      <td>52</td>\n",
       "      <td>1</td>\n",
       "      <td>13.797626</td>\n",
       "      <td>8</td>\n",
       "    </tr>\n",
       "    <tr>\n",
       "      <th>857330</th>\n",
       "      <td>50</td>\n",
       "      <td>1</td>\n",
       "      <td>13.735090</td>\n",
       "      <td>0</td>\n",
       "    </tr>\n",
       "    <tr>\n",
       "      <th>108431</th>\n",
       "      <td>70</td>\n",
       "      <td>1</td>\n",
       "      <td>14.360452</td>\n",
       "      <td>0</td>\n",
       "    </tr>\n",
       "    <tr>\n",
       "      <th>...</th>\n",
       "      <td>...</td>\n",
       "      <td>...</td>\n",
       "      <td>...</td>\n",
       "      <td>...</td>\n",
       "    </tr>\n",
       "    <tr>\n",
       "      <th>793413</th>\n",
       "      <td>70</td>\n",
       "      <td>1</td>\n",
       "      <td>14.360452</td>\n",
       "      <td>0</td>\n",
       "    </tr>\n",
       "    <tr>\n",
       "      <th>1161681</th>\n",
       "      <td>82</td>\n",
       "      <td>0</td>\n",
       "      <td>18.506239</td>\n",
       "      <td>0</td>\n",
       "    </tr>\n",
       "    <tr>\n",
       "      <th>938160</th>\n",
       "      <td>78</td>\n",
       "      <td>1</td>\n",
       "      <td>14.610597</td>\n",
       "      <td>11</td>\n",
       "    </tr>\n",
       "    <tr>\n",
       "      <th>377433</th>\n",
       "      <td>87</td>\n",
       "      <td>0</td>\n",
       "      <td>18.662580</td>\n",
       "      <td>0</td>\n",
       "    </tr>\n",
       "    <tr>\n",
       "      <th>896150</th>\n",
       "      <td>37</td>\n",
       "      <td>1</td>\n",
       "      <td>13.328604</td>\n",
       "      <td>0</td>\n",
       "    </tr>\n",
       "  </tbody>\n",
       "</table>\n",
       "<p>305888 rows × 4 columns</p>\n",
       "</div>"
      ],
      "text/plain": [
       "         personexactage  IsMobile  Predicted Duration  Actural Duration\n",
       "126876               60         1           14.047771                 0\n",
       "1163197              82         0           18.506239                28\n",
       "390985               52         1           13.797626                 8\n",
       "857330               50         1           13.735090                 0\n",
       "108431               70         1           14.360452                 0\n",
       "...                 ...       ...                 ...               ...\n",
       "793413               70         1           14.360452                 0\n",
       "1161681              82         0           18.506239                 0\n",
       "938160               78         1           14.610597                11\n",
       "377433               87         0           18.662580                 0\n",
       "896150               37         1           13.328604                 0\n",
       "\n",
       "[305888 rows x 4 columns]"
      ]
     },
     "execution_count": 37,
     "metadata": {},
     "output_type": "execute_result"
    }
   ],
   "source": [
    "PredictDataFrame"
   ]
  },
  {
   "cell_type": "markdown",
   "id": "f1e8446a",
   "metadata": {},
   "source": [
    "# Predicting With new Dataset"
   ]
  },
  {
   "cell_type": "code",
   "execution_count": 38,
   "id": "ef39469a",
   "metadata": {},
   "outputs": [
    {
     "name": "stdout",
     "output_type": "stream",
     "text": [
      "Score = 13.016\n"
     ]
    }
   ],
   "source": [
    "age = 27\n",
    "ismobile = 1\n",
    "\n",
    "result = regression.predict([[age, ismobile]])\n",
    "print(\"Score = {}\".format(round(result[0],3)))"
   ]
  },
  {
   "cell_type": "code",
   "execution_count": null,
   "id": "2e9b5eda",
   "metadata": {},
   "outputs": [],
   "source": []
  }
 ],
 "metadata": {
  "kernelspec": {
   "display_name": "Python 3",
   "language": "python",
   "name": "python3"
  },
  "language_info": {
   "codemirror_mode": {
    "name": "ipython",
    "version": 3
   },
   "file_extension": ".py",
   "mimetype": "text/x-python",
   "name": "python",
   "nbconvert_exporter": "python",
   "pygments_lexer": "ipython3",
   "version": "3.8.8"
  }
 },
 "nbformat": 4,
 "nbformat_minor": 5
}
