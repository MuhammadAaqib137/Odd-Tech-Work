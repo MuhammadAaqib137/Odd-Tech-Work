{
 "cells": [
  {
   "cell_type": "code",
   "execution_count": 1,
   "id": "bca3ab26",
   "metadata": {},
   "outputs": [],
   "source": [
    "import sqlite3\n",
    "import pandas as pd"
   ]
  },
  {
   "cell_type": "code",
   "execution_count": 2,
   "id": "39eaa976",
   "metadata": {},
   "outputs": [],
   "source": [
    "import sqlite3\n",
    "conn = sqlite3.connect('cdr_database.db')\n",
    "c = conn.cursor()"
   ]
  },
  {
   "cell_type": "code",
   "execution_count": 4,
   "id": "981c1f9a",
   "metadata": {},
   "outputs": [],
   "source": [
    "# c.execute('''DROP TABLE Cdr''')"
   ]
  },
  {
   "cell_type": "code",
   "execution_count": 5,
   "id": "4f4f8fc8",
   "metadata": {},
   "outputs": [],
   "source": [
    "# c.execute('''CREATE TABLE Cdr(FullPhoneNumber int NOT NULL Primary Key , Date text, Duration int)''')"
   ]
  },
  {
   "cell_type": "code",
   "execution_count": 5,
   "id": "2fbe689a",
   "metadata": {},
   "outputs": [],
   "source": [
    "data = pd.read_csv('Cdr_merged_data.csv')"
   ]
  },
  {
   "cell_type": "code",
   "execution_count": 6,
   "id": "1914ecbc",
   "metadata": {},
   "outputs": [],
   "source": [
    "data = data.drop(\"Unnamed: 0\",axis=1)"
   ]
  },
  {
   "cell_type": "code",
   "execution_count": 7,
   "id": "e03f1208",
   "metadata": {},
   "outputs": [
    {
     "data": {
      "text/html": [
       "<div>\n",
       "<style scoped>\n",
       "    .dataframe tbody tr th:only-of-type {\n",
       "        vertical-align: middle;\n",
       "    }\n",
       "\n",
       "    .dataframe tbody tr th {\n",
       "        vertical-align: top;\n",
       "    }\n",
       "\n",
       "    .dataframe thead th {\n",
       "        text-align: right;\n",
       "    }\n",
       "</style>\n",
       "<table border=\"1\" class=\"dataframe\">\n",
       "  <thead>\n",
       "    <tr style=\"text-align: right;\">\n",
       "      <th></th>\n",
       "      <th>FullPhoneNumber</th>\n",
       "      <th>Date</th>\n",
       "      <th>Duration</th>\n",
       "    </tr>\n",
       "  </thead>\n",
       "  <tbody>\n",
       "    <tr>\n",
       "      <th>0</th>\n",
       "      <td>9.788367e+09</td>\n",
       "      <td>2021-01-02 15:04:58</td>\n",
       "      <td>0.00</td>\n",
       "    </tr>\n",
       "    <tr>\n",
       "      <th>1</th>\n",
       "      <td>6.316652e+09</td>\n",
       "      <td>2021-01-02 15:04:59</td>\n",
       "      <td>29.00</td>\n",
       "    </tr>\n",
       "    <tr>\n",
       "      <th>2</th>\n",
       "      <td>9.736973e+09</td>\n",
       "      <td>2021-01-02 15:04:59</td>\n",
       "      <td>33.00</td>\n",
       "    </tr>\n",
       "    <tr>\n",
       "      <th>3</th>\n",
       "      <td>5.167999e+09</td>\n",
       "      <td>2021-01-02 15:04:59</td>\n",
       "      <td>34.00</td>\n",
       "    </tr>\n",
       "    <tr>\n",
       "      <th>4</th>\n",
       "      <td>8.503003e+09</td>\n",
       "      <td>2021-01-02 15:04:59</td>\n",
       "      <td>0.00</td>\n",
       "    </tr>\n",
       "    <tr>\n",
       "      <th>...</th>\n",
       "      <td>...</td>\n",
       "      <td>...</td>\n",
       "      <td>...</td>\n",
       "    </tr>\n",
       "    <tr>\n",
       "      <th>3970537</th>\n",
       "      <td>1.615715e+10</td>\n",
       "      <td>1/20/2021 15:50</td>\n",
       "      <td>7.69</td>\n",
       "    </tr>\n",
       "    <tr>\n",
       "      <th>3970538</th>\n",
       "      <td>1.519728e+10</td>\n",
       "      <td>1/20/2021 15:50</td>\n",
       "      <td>2.21</td>\n",
       "    </tr>\n",
       "    <tr>\n",
       "      <th>3970539</th>\n",
       "      <td>1.412836e+10</td>\n",
       "      <td>1/20/2021 15:50</td>\n",
       "      <td>2.58</td>\n",
       "    </tr>\n",
       "    <tr>\n",
       "      <th>3970540</th>\n",
       "      <td>1.615500e+10</td>\n",
       "      <td>1/20/2021 15:50</td>\n",
       "      <td>2.15</td>\n",
       "    </tr>\n",
       "    <tr>\n",
       "      <th>3970541</th>\n",
       "      <td>1.609307e+10</td>\n",
       "      <td>1/20/2021 15:50</td>\n",
       "      <td>0.04</td>\n",
       "    </tr>\n",
       "  </tbody>\n",
       "</table>\n",
       "<p>3970542 rows × 3 columns</p>\n",
       "</div>"
      ],
      "text/plain": [
       "         FullPhoneNumber                 Date  Duration\n",
       "0           9.788367e+09  2021-01-02 15:04:58      0.00\n",
       "1           6.316652e+09  2021-01-02 15:04:59     29.00\n",
       "2           9.736973e+09  2021-01-02 15:04:59     33.00\n",
       "3           5.167999e+09  2021-01-02 15:04:59     34.00\n",
       "4           8.503003e+09  2021-01-02 15:04:59      0.00\n",
       "...                  ...                  ...       ...\n",
       "3970537     1.615715e+10      1/20/2021 15:50      7.69\n",
       "3970538     1.519728e+10      1/20/2021 15:50      2.21\n",
       "3970539     1.412836e+10      1/20/2021 15:50      2.58\n",
       "3970540     1.615500e+10      1/20/2021 15:50      2.15\n",
       "3970541     1.609307e+10      1/20/2021 15:50      0.04\n",
       "\n",
       "[3970542 rows x 3 columns]"
      ]
     },
     "execution_count": 7,
     "metadata": {},
     "output_type": "execute_result"
    }
   ],
   "source": [
    "data"
   ]
  },
  {
   "cell_type": "code",
   "execution_count": 7,
   "id": "77221f9f",
   "metadata": {},
   "outputs": [],
   "source": [
    "data['FullPhoneNumber']=data['FullPhoneNumber'].astype(str)"
   ]
  },
  {
   "cell_type": "code",
   "execution_count": 9,
   "id": "92d5cb0f",
   "metadata": {},
   "outputs": [
    {
     "data": {
      "text/plain": [
       "dtype('O')"
      ]
     },
     "execution_count": 9,
     "metadata": {},
     "output_type": "execute_result"
    }
   ],
   "source": [
    "data['FullPhoneNumber'].dtype"
   ]
  },
  {
   "cell_type": "code",
   "execution_count": 10,
   "id": "c4cf2701",
   "metadata": {},
   "outputs": [
    {
     "data": {
      "text/plain": [
       "0           9788367424.0\n",
       "1           6316652128.0\n",
       "2           9736973406.0\n",
       "3           5167998519.0\n",
       "4           8503002557.0\n",
       "               ...      \n",
       "3970537    16157147558.0\n",
       "3970538    15197283494.0\n",
       "3970539    14128358218.0\n",
       "3970540    16155000761.0\n",
       "3970541    16093065506.0\n",
       "Name: FullPhoneNumber, Length: 3970542, dtype: object"
      ]
     },
     "execution_count": 10,
     "metadata": {},
     "output_type": "execute_result"
    }
   ],
   "source": [
    "data['FullPhoneNumber']"
   ]
  },
  {
   "cell_type": "code",
   "execution_count": 8,
   "id": "c73a320d",
   "metadata": {},
   "outputs": [],
   "source": [
    "data['Date'] = data['Date'].astype(str)"
   ]
  },
  {
   "cell_type": "code",
   "execution_count": 12,
   "id": "a51e81cd",
   "metadata": {},
   "outputs": [
    {
     "data": {
      "text/plain": [
       "dtype('O')"
      ]
     },
     "execution_count": 12,
     "metadata": {},
     "output_type": "execute_result"
    }
   ],
   "source": [
    "data['Date'].dtype"
   ]
  },
  {
   "cell_type": "code",
   "execution_count": 9,
   "id": "9a17e71e",
   "metadata": {},
   "outputs": [],
   "source": [
    "data['Duration'] = data['Duration'].astype(int)"
   ]
  },
  {
   "cell_type": "code",
   "execution_count": 10,
   "id": "c1b7c2e8",
   "metadata": {},
   "outputs": [],
   "source": [
    "# date_list = data['Date'].to_list()\n",
    "\n",
    "# # dfnew['call_time'][0][3:25]\n",
    "# # date_time =  [i[3:25] and i[0:20].replace(\" \",\"\") for i in list1]\n",
    "# date =  [i[0:10].replace('/','-') for i in date_list]"
   ]
  },
  {
   "cell_type": "code",
   "execution_count": 11,
   "id": "ba407964",
   "metadata": {},
   "outputs": [],
   "source": [
    "# import datetime\n",
    "# date_new_list = []\n",
    "# count = 0\n",
    "# for i in date:\n",
    "#     d = datetime.datetime.strptime(i, '%Y-%m-%d')\n",
    "#     date_new_list.append(datetime.date.strftime(d, \"%Y-%m-%d\"))\n",
    "#     print(str(count)+' new date has been appended '+ str(date_new_list[count])+ ' to new list')\n",
    "#     count+=1"
   ]
  },
  {
   "cell_type": "code",
   "execution_count": 6,
   "id": "18de696e",
   "metadata": {},
   "outputs": [],
   "source": [
    "# data.to_sql('Cdr', conn, if_exists='append', index = False)"
   ]
  },
  {
   "cell_type": "code",
   "execution_count": 3,
   "id": "97a80c64",
   "metadata": {},
   "outputs": [
    {
     "data": {
      "text/html": [
       "<div>\n",
       "<style scoped>\n",
       "    .dataframe tbody tr th:only-of-type {\n",
       "        vertical-align: middle;\n",
       "    }\n",
       "\n",
       "    .dataframe tbody tr th {\n",
       "        vertical-align: top;\n",
       "    }\n",
       "\n",
       "    .dataframe thead th {\n",
       "        text-align: right;\n",
       "    }\n",
       "</style>\n",
       "<table border=\"1\" class=\"dataframe\">\n",
       "  <thead>\n",
       "    <tr style=\"text-align: right;\">\n",
       "      <th></th>\n",
       "      <th>FullPhoneNumber</th>\n",
       "      <th>Date</th>\n",
       "      <th>Duration</th>\n",
       "    </tr>\n",
       "  </thead>\n",
       "  <tbody>\n",
       "    <tr>\n",
       "      <th>0</th>\n",
       "      <td>9788367424</td>\n",
       "      <td>2021-01-02 15:04:58</td>\n",
       "      <td>0</td>\n",
       "    </tr>\n",
       "    <tr>\n",
       "      <th>1</th>\n",
       "      <td>6316652128</td>\n",
       "      <td>2021-01-02 15:04:59</td>\n",
       "      <td>29</td>\n",
       "    </tr>\n",
       "    <tr>\n",
       "      <th>2</th>\n",
       "      <td>9736973406</td>\n",
       "      <td>2021-01-02 15:04:59</td>\n",
       "      <td>33</td>\n",
       "    </tr>\n",
       "    <tr>\n",
       "      <th>3</th>\n",
       "      <td>5167998519</td>\n",
       "      <td>2021-01-02 15:04:59</td>\n",
       "      <td>34</td>\n",
       "    </tr>\n",
       "    <tr>\n",
       "      <th>4</th>\n",
       "      <td>8503002557</td>\n",
       "      <td>2021-01-02 15:04:59</td>\n",
       "      <td>0</td>\n",
       "    </tr>\n",
       "    <tr>\n",
       "      <th>...</th>\n",
       "      <td>...</td>\n",
       "      <td>...</td>\n",
       "      <td>...</td>\n",
       "    </tr>\n",
       "    <tr>\n",
       "      <th>95</th>\n",
       "      <td>6143544874</td>\n",
       "      <td>2021-01-02 15:05:34</td>\n",
       "      <td>0</td>\n",
       "    </tr>\n",
       "    <tr>\n",
       "      <th>96</th>\n",
       "      <td>9038063719</td>\n",
       "      <td>2021-01-02 15:05:35</td>\n",
       "      <td>0</td>\n",
       "    </tr>\n",
       "    <tr>\n",
       "      <th>97</th>\n",
       "      <td>7575152291</td>\n",
       "      <td>2021-01-02 15:05:36</td>\n",
       "      <td>0</td>\n",
       "    </tr>\n",
       "    <tr>\n",
       "      <th>98</th>\n",
       "      <td>4103675357</td>\n",
       "      <td>2021-01-02 15:05:39</td>\n",
       "      <td>5</td>\n",
       "    </tr>\n",
       "    <tr>\n",
       "      <th>99</th>\n",
       "      <td>8644266171</td>\n",
       "      <td>2021-01-02 15:05:39</td>\n",
       "      <td>0</td>\n",
       "    </tr>\n",
       "  </tbody>\n",
       "</table>\n",
       "<p>100 rows × 3 columns</p>\n",
       "</div>"
      ],
      "text/plain": [
       "    FullPhoneNumber                 Date  Duration\n",
       "0        9788367424  2021-01-02 15:04:58         0\n",
       "1        6316652128  2021-01-02 15:04:59        29\n",
       "2        9736973406  2021-01-02 15:04:59        33\n",
       "3        5167998519  2021-01-02 15:04:59        34\n",
       "4        8503002557  2021-01-02 15:04:59         0\n",
       "..              ...                  ...       ...\n",
       "95       6143544874  2021-01-02 15:05:34         0\n",
       "96       9038063719  2021-01-02 15:05:35         0\n",
       "97       7575152291  2021-01-02 15:05:36         0\n",
       "98       4103675357  2021-01-02 15:05:39         5\n",
       "99       8644266171  2021-01-02 15:05:39         0\n",
       "\n",
       "[100 rows x 3 columns]"
      ]
     },
     "execution_count": 3,
     "metadata": {},
     "output_type": "execute_result"
    }
   ],
   "source": [
    "sql = pd.read_sql('''SELECT * FROM Cdr\n",
    "                    LIMIT 100''',conn)\n",
    "sql"
   ]
  },
  {
   "cell_type": "code",
   "execution_count": 7,
   "id": "fdc7631f",
   "metadata": {},
   "outputs": [
    {
     "data": {
      "text/html": [
       "<div>\n",
       "<style scoped>\n",
       "    .dataframe tbody tr th:only-of-type {\n",
       "        vertical-align: middle;\n",
       "    }\n",
       "\n",
       "    .dataframe tbody tr th {\n",
       "        vertical-align: top;\n",
       "    }\n",
       "\n",
       "    .dataframe thead th {\n",
       "        text-align: right;\n",
       "    }\n",
       "</style>\n",
       "<table border=\"1\" class=\"dataframe\">\n",
       "  <thead>\n",
       "    <tr style=\"text-align: right;\">\n",
       "      <th></th>\n",
       "      <th>Count(FullPhoneNumber)</th>\n",
       "    </tr>\n",
       "  </thead>\n",
       "  <tbody>\n",
       "    <tr>\n",
       "      <th>0</th>\n",
       "      <td>3970542</td>\n",
       "    </tr>\n",
       "  </tbody>\n",
       "</table>\n",
       "</div>"
      ],
      "text/plain": [
       "   Count(FullPhoneNumber)\n",
       "0                 3970542"
      ]
     },
     "execution_count": 7,
     "metadata": {},
     "output_type": "execute_result"
    }
   ],
   "source": [
    "sql = pd.read_sql('''SELECT Count(FullPhoneNumber) FROM Cdr''',conn)\n",
    "sql"
   ]
  },
  {
   "cell_type": "code",
   "execution_count": 5,
   "id": "18172585",
   "metadata": {},
   "outputs": [],
   "source": [
    "\n",
    "\n",
    "# import os\n",
    "# list_of_dir = os.listdir(r'Z:\\Muhammad Aaqib\\cdr_data')\n",
    "# list_of_iter = iter(list_of_dir)"
   ]
  },
  {
   "cell_type": "code",
   "execution_count": 6,
   "id": "77ba2e1b",
   "metadata": {},
   "outputs": [
    {
     "name": "stderr",
     "output_type": "stream",
     "text": [
      "C:\\Users\\trainee8\\Anaconda3\\lib\\site-packages\\IPython\\core\\interactiveshell.py:3165: DtypeWarning: Columns (1) have mixed types.Specify dtype option on import or set low_memory=False.\n",
      "  has_raised = await self.run_ast_nodes(code_ast.body, cell_name,\n"
     ]
    },
    {
     "name": "stdout",
     "output_type": "stream",
     "text": [
      "1 (479591, 3) 2021-01-02.csv Appended to Database\n",
      "2 (607456, 3) 2021-03-01.csv Appended to Database\n",
      "3 (1400870, 3) 2021-04-20.csv Appended to Database\n",
      "4 (797683, 3) 2021-05-03.csv Appended to Database\n",
      "5 (2805, 3) 2021-06-30.csv Appended to Database\n",
      "6 (163903, 3) 2021-07-30.csv Appended to Database\n",
      "7 (151205, 3) 2021-08-02.csv Appended to Database\n"
     ]
    },
    {
     "name": "stderr",
     "output_type": "stream",
     "text": [
      "C:\\Users\\trainee8\\Anaconda3\\lib\\site-packages\\IPython\\core\\interactiveshell.py:3165: DtypeWarning: Columns (18) have mixed types.Specify dtype option on import or set low_memory=False.\n",
      "  has_raised = await self.run_ast_nodes(code_ast.body, cell_name,\n"
     ]
    },
    {
     "name": "stdout",
     "output_type": "stream",
     "text": [
      "8 (432200, 3) cdr (2).csv Appended to Database\n",
      "9 (1852, 3) cdr (3).csv Appended to Database\n"
     ]
    },
    {
     "name": "stderr",
     "output_type": "stream",
     "text": [
      "C:\\Users\\trainee8\\Anaconda3\\lib\\site-packages\\IPython\\core\\interactiveshell.py:3165: DtypeWarning: Columns (7,11) have mixed types.Specify dtype option on import or set low_memory=False.\n",
      "  has_raised = await self.run_ast_nodes(code_ast.body, cell_name,\n"
     ]
    },
    {
     "name": "stdout",
     "output_type": "stream",
     "text": [
      "10 (434454, 3) cdr_cleaned.csv Appended to Database\n",
      "All csv are successfully appended\n"
     ]
    }
   ],
   "source": [
    "# for i in range(len(list_of_dir)):\n",
    "#     df = pd.read_csv(os.path.join(\"Z:\\Muhammad Aaqib\\cdr_data\" ,str(next(list_of_iter))))\n",
    "#     df=df[['date',\n",
    "#              'dst_number',\n",
    "#              'duration'\n",
    "#              ]]\n",
    "#     df.rename(columns = {'date':'Date','dst_number':'FullPhoneNumber','duration':'Duration'}, inplace = True)\n",
    "#     df['FullPhoneNumber']=df['FullPhoneNumber'].astype(str)\n",
    "#     df=df[df['FullPhoneNumber'] != 'nan']\n",
    "#     df['Date']=df['Date'].astype(str)\n",
    "#     df['Duration']=df['Duration'].astype(str)\n",
    "#     df=df[df['Duration'] != 'nan']\n",
    "#     df=df.drop_duplicates('FullPhoneNumber').sort_index()\n",
    "#     df.to_sql('Cdr', conn, if_exists='append', index = False)\n",
    "#     print(i+1, df.shape, list_of_dir[i], 'Appended to Database')\n",
    "# print('All csv are successfully appended')"
   ]
  },
  {
   "cell_type": "code",
   "execution_count": 7,
   "id": "4b76acc4",
   "metadata": {},
   "outputs": [],
   "source": [
    "# sql_query = pd.read_sql_query('''SELECT * FROM Cdr''',conn)\n",
    "# df = pd.DataFrame(sql_query).drop_duplicates('FullPhoneNumber').sort_index()\n"
   ]
  },
  {
   "cell_type": "code",
   "execution_count": 13,
   "id": "ef65487d",
   "metadata": {},
   "outputs": [],
   "source": [
    "# df=df.reset_index(drop = True)\n",
    "# df.to_csv('Cdr_merged_data.csv')"
   ]
  },
  {
   "cell_type": "code",
   "execution_count": 19,
   "id": "8a73d048",
   "metadata": {},
   "outputs": [
    {
     "data": {
      "text/html": [
       "<div>\n",
       "<style scoped>\n",
       "    .dataframe tbody tr th:only-of-type {\n",
       "        vertical-align: middle;\n",
       "    }\n",
       "\n",
       "    .dataframe tbody tr th {\n",
       "        vertical-align: top;\n",
       "    }\n",
       "\n",
       "    .dataframe thead th {\n",
       "        text-align: right;\n",
       "    }\n",
       "</style>\n",
       "<table border=\"1\" class=\"dataframe\">\n",
       "  <thead>\n",
       "    <tr style=\"text-align: right;\">\n",
       "      <th></th>\n",
       "      <th>FullPhoneNumber</th>\n",
       "      <th>Date</th>\n",
       "      <th>Duration</th>\n",
       "    </tr>\n",
       "  </thead>\n",
       "  <tbody>\n",
       "    <tr>\n",
       "      <th>0</th>\n",
       "      <td>1.309912e+06</td>\n",
       "      <td>8/10/2021 19:47</td>\n",
       "      <td>0.000</td>\n",
       "    </tr>\n",
       "    <tr>\n",
       "      <th>1</th>\n",
       "      <td>1.310686e+06</td>\n",
       "      <td>8/10/2021 20:30</td>\n",
       "      <td>0.000</td>\n",
       "    </tr>\n",
       "    <tr>\n",
       "      <th>2</th>\n",
       "      <td>1.310766e+06</td>\n",
       "      <td>8/10/2021 19:46</td>\n",
       "      <td>0.000</td>\n",
       "    </tr>\n",
       "    <tr>\n",
       "      <th>3</th>\n",
       "      <td>1.312292e+06</td>\n",
       "      <td>8/10/2021 20:21</td>\n",
       "      <td>0.000</td>\n",
       "    </tr>\n",
       "    <tr>\n",
       "      <th>4</th>\n",
       "      <td>1.312346e+06</td>\n",
       "      <td>8/10/2021 19:46</td>\n",
       "      <td>0.000</td>\n",
       "    </tr>\n",
       "    <tr>\n",
       "      <th>...</th>\n",
       "      <td>...</td>\n",
       "      <td>...</td>\n",
       "      <td>...</td>\n",
       "    </tr>\n",
       "    <tr>\n",
       "      <th>4682839</th>\n",
       "      <td>1.833720e+11</td>\n",
       "      <td>6/30/2021 23:03</td>\n",
       "      <td>43.118</td>\n",
       "    </tr>\n",
       "    <tr>\n",
       "      <th>4682840</th>\n",
       "      <td>1.412300e+12</td>\n",
       "      <td>1/19/2021 16:41</td>\n",
       "      <td>12.490</td>\n",
       "    </tr>\n",
       "    <tr>\n",
       "      <th>4682841</th>\n",
       "      <td>1.559980e+12</td>\n",
       "      <td>6/30/2021 21:57</td>\n",
       "      <td>0.000</td>\n",
       "    </tr>\n",
       "    <tr>\n",
       "      <th>4682842</th>\n",
       "      <td>1.218750e+13</td>\n",
       "      <td>6/30/2021 20:56</td>\n",
       "      <td>11.031</td>\n",
       "    </tr>\n",
       "    <tr>\n",
       "      <th>4682843</th>\n",
       "      <td>1.225220e+78</td>\n",
       "      <td>7/1/2021 18:52</td>\n",
       "      <td>0.000</td>\n",
       "    </tr>\n",
       "  </tbody>\n",
       "</table>\n",
       "<p>4682844 rows × 3 columns</p>\n",
       "</div>"
      ],
      "text/plain": [
       "         FullPhoneNumber             Date  Duration\n",
       "0           1.309912e+06  8/10/2021 19:47     0.000\n",
       "1           1.310686e+06  8/10/2021 20:30     0.000\n",
       "2           1.310766e+06  8/10/2021 19:46     0.000\n",
       "3           1.312292e+06  8/10/2021 20:21     0.000\n",
       "4           1.312346e+06  8/10/2021 19:46     0.000\n",
       "...                  ...              ...       ...\n",
       "4682839     1.833720e+11  6/30/2021 23:03    43.118\n",
       "4682840     1.412300e+12  1/19/2021 16:41    12.490\n",
       "4682841     1.559980e+12  6/30/2021 21:57     0.000\n",
       "4682842     1.218750e+13  6/30/2021 20:56    11.031\n",
       "4682843     1.225220e+78   7/1/2021 18:52     0.000\n",
       "\n",
       "[4682844 rows x 3 columns]"
      ]
     },
     "execution_count": 19,
     "metadata": {},
     "output_type": "execute_result"
    }
   ],
   "source": [
    "# sql = pd.read_sql('''SELECT FullPhoneNumber,Date,Duration FROM Cdr\n",
    "#                      Order By FullPhoneNumber''',conn)\n",
    "# sql"
   ]
  },
  {
   "cell_type": "code",
   "execution_count": 10,
   "id": "d8bdf8a6",
   "metadata": {},
   "outputs": [
    {
     "data": {
      "text/plain": [
       "<sqlite3.Cursor at 0x139f33d5500>"
      ]
     },
     "execution_count": 10,
     "metadata": {},
     "output_type": "execute_result"
    }
   ],
   "source": [
    "# c.execute('''CREATE TABLE Cdr_Unique( FullPhoneNumber int Primary key, Date text, Duration int)''')"
   ]
  },
  {
   "cell_type": "code",
   "execution_count": 34,
   "id": "7b697236",
   "metadata": {},
   "outputs": [],
   "source": [
    "# c.execute('''INSERT INTO Cdr_Unique SELECT Distinct Cdr.FullPhoneNumber,Date,Duration FROM Cdr \n",
    "#             Order By FullPhoneNumber''')"
   ]
  },
  {
   "cell_type": "code",
   "execution_count": null,
   "id": "34c9ceaf",
   "metadata": {},
   "outputs": [],
   "source": []
  },
  {
   "cell_type": "code",
   "execution_count": null,
   "id": "17e86385",
   "metadata": {},
   "outputs": [],
   "source": []
  }
 ],
 "metadata": {
  "kernelspec": {
   "display_name": "Python 3",
   "language": "python",
   "name": "python3"
  },
  "language_info": {
   "codemirror_mode": {
    "name": "ipython",
    "version": 3
   },
   "file_extension": ".py",
   "mimetype": "text/x-python",
   "name": "python",
   "nbconvert_exporter": "python",
   "pygments_lexer": "ipython3",
   "version": "3.8.8"
  }
 },
 "nbformat": 4,
 "nbformat_minor": 5
}
