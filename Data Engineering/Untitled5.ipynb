{
 "cells": [
  {
   "cell_type": "code",
   "execution_count": 1,
   "id": "97058886",
   "metadata": {},
   "outputs": [],
   "source": [
    "from mysql.connector import (connection)\n",
    "import mysql.connector \n",
    "import hashlib\n"
   ]
  },
  {
   "cell_type": "code",
   "execution_count": 2,
   "id": "52b28109",
   "metadata": {},
   "outputs": [],
   "source": [
    "def create_connection():\n",
    "    host= '192.168.88.47'\n",
    "    User= 'attendance'\n",
    "    password= 'Attendance12'\n",
    "    DB = 'attendance_dev'\n",
    "    cnx = connection.MySQLConnection(user=User, password=password,\n",
    "                                     host=host, database=DB)\n",
    "    cursor = cnx.cursor()\n",
    "    return cursor,cnx"
   ]
  },
  {
   "cell_type": "code",
   "execution_count": 3,
   "id": "ba2391f0",
   "metadata": {},
   "outputs": [],
   "source": [
    "def create_connections(db_file):\n",
    "    \"\"\" create a database connection to the SQLite database\n",
    "        specified by db_file\n",
    "    :param db_file: database file\n",
    "    :return: Connection object or None\n",
    "    \"\"\"\n",
    "    conn = None\n",
    "    if \".db\" not in db_file:\n",
    "        db_file = db_file +\".db\"\n",
    "    try:\n",
    "        conn = create_connection(db_file)\n",
    "        return conn\n",
    "    except Error as e:\n",
    "        print(e)\n",
    "\n",
    "    return conn"
   ]
  },
  {
   "cell_type": "code",
   "execution_count": 4,
   "id": "b2c7ea14",
   "metadata": {},
   "outputs": [],
   "source": [
    "def create_table(cnx, create_table_sql):\n",
    "    \"\"\" create a table from the create_table_sql statement\n",
    "    :param conn: Connection object\n",
    "    :param create_table_sql: a CREATE TABLE statement\n",
    "    :return:\n",
    "    \"\"\"\n",
    "    try:\n",
    "        cursor,cnx = create_connection()\n",
    "        cursor.execute(create_table_sql)\n",
    "    except Error as e:\n",
    "        print(e)"
   ]
  },
  {
   "cell_type": "code",
   "execution_count": 5,
   "id": "31d92608",
   "metadata": {},
   "outputs": [],
   "source": [
    "def create_database(database):\n",
    "    # create a database connection\n",
    "    if \".db\" not in database:\n",
    "            database =database+ '.db'\n",
    "    cursor,cnx = create_connection(database)\n",
    "\n",
    "    sql_create_Employee_table = \"\"\" CREATE TABLE IF NOT EXISTS Employee (\n",
    "                                        employee_id text PRIMARY KEY NOT NULL,\n",
    "                                        branch_id integer ,\n",
    "                                        name text NOT NULL,\n",
    "                                        shift text NOT NULL,\n",
    "                                        start_timing time NOT NULL,\n",
    "                                        end_timing time NOT NULL,\n",
    "                                        photo BLOB ,\n",
    "                                        joining_date date,\n",
    "                                        image_capturing_time timestamp,\n",
    "                                        status text DEFAULT 'active'\n",
    "                                    ); \"\"\"\n",
    "\n",
    "\n",
    "    sql_create_Attendance_table = \"\"\" CREATE TABLE IF NOT EXISTS Attendance (\n",
    "                                        id integer PRIMARY KEY AUTOINCREMENT NOT NULL,\n",
    "                                        employee_id text NOT NULL ,\n",
    "                                        date DATE NOT NULL,\n",
    "                                        device_id text, \n",
    "                                        checkin time ,\n",
    "                                        checkout time,\n",
    "                                        \n",
    "                                        FOREIGN KEY(employee_id) REFERENCES Employee(employee_id)\n",
    "                                    );  \"\"\"\n",
    "    \n",
    "    \n",
    "    sql_create_Attendance_status_table = \"\"\" CREATE TABLE IF NOT EXISTS Attendance_status (\n",
    "                                        id integer PRIMARY KEY AUTOINCREMENT NOT NULL,\n",
    "                                        employee_id text NOT NULL ,\n",
    "                                        date text NOT NULL,\n",
    "                                        device_id text, \n",
    "                                        status text\n",
    "                                        \n",
    "                                        FOREIGN KEY(employee_id) REFERENCES Employee(employee_id)\n",
    "                                    );  \"\"\"\n",
    "\n"
   ]
  },
  {
   "cell_type": "code",
   "execution_count": null,
   "id": "942ef8cc",
   "metadata": {},
   "outputs": [],
   "source": []
  },
  {
   "cell_type": "code",
   "execution_count": 9,
   "id": "941f61e0",
   "metadata": {},
   "outputs": [
    {
     "name": "stdout",
     "output_type": "stream",
     "text": [
      "Error! cannot create the sql_create_Employee_table.\n",
      "ERROR =  name 'cnx' is not defined\n",
      "Error! cannot create sql_create_Attendance_table.\n",
      "ERROR =  name 'cnx' is not defined\n",
      "Error! cannot create sql_create_Attendance_status_table.\n",
      "ERROR =  name 'cnx' is not defined\n"
     ]
    }
   ],
   "source": [
    "try:\n",
    "    # create employee table\n",
    "    create_table(cnx, sql_create_Employee_table)\n",
    "except Exception as e:\n",
    "    print(\"Error! cannot create the sql_create_Employee_table.\")\n",
    "    print(\"ERROR = \" , e)\n",
    "\n",
    "        \n",
    "    # create attendance table\n",
    "try:\n",
    "    create_table(cnx, sql_create_Attendance_table)\n",
    "except Exception as e:\n",
    "    print(\"Error! cannot create sql_create_Attendance_table.\")\n",
    "    print(\"ERROR = \" , e)\n",
    "        \n",
    "        \n",
    "# create Attendance_status table\n",
    "try:\n",
    "    create_table(cnx, sql_create_Attendance_status_table)\n",
    "except Exception as e:\n",
    "    print(\"Error! cannot create sql_create_Attendance_status_table.\")\n",
    "    print(\"ERROR = \" , e)\n"
   ]
  },
  {
   "cell_type": "code",
   "execution_count": null,
   "id": "b4130531",
   "metadata": {},
   "outputs": [],
   "source": []
  }
 ],
 "metadata": {
  "kernelspec": {
   "display_name": "Python 3 (ipykernel)",
   "language": "python",
   "name": "python3"
  },
  "language_info": {
   "codemirror_mode": {
    "name": "ipython",
    "version": 3
   },
   "file_extension": ".py",
   "mimetype": "text/x-python",
   "name": "python",
   "nbconvert_exporter": "python",
   "pygments_lexer": "ipython3",
   "version": "3.9.7"
  }
 },
 "nbformat": 4,
 "nbformat_minor": 5
}
