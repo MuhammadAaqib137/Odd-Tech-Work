{
 "cells": [
  {
   "cell_type": "code",
   "execution_count": 1,
   "id": "a74f63e1",
   "metadata": {},
   "outputs": [],
   "source": [
    "import pandas as pd\n",
    "import sqlite3 "
   ]
  },
  {
   "cell_type": "code",
   "execution_count": 2,
   "id": "ed957890",
   "metadata": {},
   "outputs": [],
   "source": [
    "import sqlite3\n",
    "conn = sqlite3.connect('my_database.db')\n",
    "c = conn.cursor()"
   ]
  },
  {
   "cell_type": "code",
   "execution_count": 3,
   "id": "622746e9",
   "metadata": {},
   "outputs": [
    {
     "data": {
      "text/plain": [
       "<sqlite3.Cursor at 0x2073a2818f0>"
      ]
     },
     "execution_count": 3,
     "metadata": {},
     "output_type": "execute_result"
    }
   ],
   "source": [
    " c.execute('''DROP TABLE table_2021''')"
   ]
  },
  {
   "cell_type": "code",
   "execution_count": 4,
   "id": "46d27236",
   "metadata": {},
   "outputs": [
    {
     "data": {
      "text/plain": [
       "<sqlite3.Cursor at 0x2073a2818f0>"
      ]
     },
     "execution_count": 4,
     "metadata": {},
     "output_type": "execute_result"
    }
   ],
   "source": [
    "c.execute('''CREATE TABLE table_2021 (FullPhoneNumber text,state text,cityname text,persongender  text,personexactage text,personmaritalstatus text,traveler text,ZipCode text,investment text,estimatedincomecode text,timezone text,DONOTCALL text,\"PresenceOfCreditCard\" text,CreditRating  text )''')"
   ]
  },
  {
   "cell_type": "code",
   "execution_count": 5,
   "id": "0ba50cc0",
   "metadata": {},
   "outputs": [
    {
     "data": {
      "text/plain": [
       "<sqlite3.Cursor at 0x2073a2818f0>"
      ]
     },
     "execution_count": 5,
     "metadata": {},
     "output_type": "execute_result"
    }
   ],
   "source": [
    "c.execute('''INSERT INTO table_2021(FullPhoneNumber ,state,cityname ,persongender ,personexactage,personmaritalstatus ,traveler ,ZipCode ,investment ,estimatedincomecode ,timezone,DONOTCALL ,\"PresenceOfCreditCard\" ,CreditRating ) VALUES(NULL,NULL,NULL,NULL,NULL,NULL,NULL,NULL,NULL,NULL,NULL,NULL,NULL,NULL) ''')"
   ]
  },
  {
   "cell_type": "code",
   "execution_count": 6,
   "id": "49c61339",
   "metadata": {},
   "outputs": [
    {
     "data": {
      "text/plain": [
       "<sqlite3.Cursor at 0x2073a2818f0>"
      ]
     },
     "execution_count": 6,
     "metadata": {},
     "output_type": "execute_result"
    }
   ],
   "source": [
    "c.execute('''SELECT * FROM table_2021''')"
   ]
  },
  {
   "cell_type": "code",
   "execution_count": 10,
   "id": "64943b75",
   "metadata": {},
   "outputs": [
    {
     "data": {
      "text/html": [
       "<div>\n",
       "<style scoped>\n",
       "    .dataframe tbody tr th:only-of-type {\n",
       "        vertical-align: middle;\n",
       "    }\n",
       "\n",
       "    .dataframe tbody tr th {\n",
       "        vertical-align: top;\n",
       "    }\n",
       "\n",
       "    .dataframe thead th {\n",
       "        text-align: right;\n",
       "    }\n",
       "</style>\n",
       "<table border=\"1\" class=\"dataframe\">\n",
       "  <thead>\n",
       "    <tr style=\"text-align: right;\">\n",
       "      <th></th>\n",
       "      <th>FullPhoneNumber</th>\n",
       "      <th>state</th>\n",
       "      <th>cityname</th>\n",
       "      <th>persongender</th>\n",
       "      <th>personexactage</th>\n",
       "      <th>personmaritalstatus</th>\n",
       "      <th>traveler</th>\n",
       "      <th>ZipCode</th>\n",
       "      <th>investment</th>\n",
       "      <th>estimatedincomecode</th>\n",
       "      <th>timezone</th>\n",
       "      <th>DONOTCALL</th>\n",
       "      <th>PresenceOfCreditCard</th>\n",
       "      <th>CreditRating</th>\n",
       "    </tr>\n",
       "  </thead>\n",
       "  <tbody>\n",
       "    <tr>\n",
       "      <th>0</th>\n",
       "      <td>None</td>\n",
       "      <td>None</td>\n",
       "      <td>None</td>\n",
       "      <td>None</td>\n",
       "      <td>None</td>\n",
       "      <td>None</td>\n",
       "      <td>None</td>\n",
       "      <td>None</td>\n",
       "      <td>None</td>\n",
       "      <td>None</td>\n",
       "      <td>None</td>\n",
       "      <td>None</td>\n",
       "      <td>None</td>\n",
       "      <td>None</td>\n",
       "    </tr>\n",
       "  </tbody>\n",
       "</table>\n",
       "</div>"
      ],
      "text/plain": [
       "  FullPhoneNumber state cityname persongender personexactage  \\\n",
       "0            None  None     None         None           None   \n",
       "\n",
       "  personmaritalstatus traveler ZipCode investment estimatedincomecode  \\\n",
       "0                None     None    None       None                None   \n",
       "\n",
       "  timezone DONOTCALL PresenceOfCreditCard CreditRating  \n",
       "0     None      None                 None         None  "
      ]
     },
     "execution_count": 10,
     "metadata": {},
     "output_type": "execute_result"
    }
   ],
   "source": [
    "sql_File=pd.read_sql('''SELECT * FROM table_2021''',conn)\n",
    "sql_File\n",
    " "
   ]
  },
  {
   "cell_type": "code",
   "execution_count": 11,
   "id": "45d06121",
   "metadata": {},
   "outputs": [],
   "source": [
    "import os\n",
    "list_of_dir = os.listdir(r'Z:\\AIDAILER\\Tony DB 2021')\n",
    "list_of_iter = iter(list_of_dir)"
   ]
  },
  {
   "cell_type": "code",
   "execution_count": 16,
   "id": "73ffd236",
   "metadata": {},
   "outputs": [
    {
     "ename": "StopIteration",
     "evalue": "",
     "output_type": "error",
     "traceback": [
      "\u001b[1;31m---------------------------------------------------------------------------\u001b[0m",
      "\u001b[1;31mStopIteration\u001b[0m                             Traceback (most recent call last)",
      "\u001b[1;32m<ipython-input-16-de069eaed692>\u001b[0m in \u001b[0;36m<module>\u001b[1;34m\u001b[0m\n\u001b[0;32m      1\u001b[0m \u001b[1;32mfor\u001b[0m \u001b[0mi\u001b[0m \u001b[1;32min\u001b[0m \u001b[0mrange\u001b[0m\u001b[1;33m(\u001b[0m\u001b[0mlen\u001b[0m\u001b[1;33m(\u001b[0m\u001b[0mlist_of_dir\u001b[0m\u001b[1;33m)\u001b[0m\u001b[1;33m)\u001b[0m\u001b[1;33m:\u001b[0m\u001b[1;33m\u001b[0m\u001b[1;33m\u001b[0m\u001b[0m\n\u001b[1;32m----> 2\u001b[1;33m     \u001b[0mdf\u001b[0m \u001b[1;33m=\u001b[0m \u001b[0mpd\u001b[0m\u001b[1;33m.\u001b[0m\u001b[0mread_csv\u001b[0m\u001b[1;33m(\u001b[0m\u001b[0mos\u001b[0m\u001b[1;33m.\u001b[0m\u001b[0mpath\u001b[0m\u001b[1;33m.\u001b[0m\u001b[0mjoin\u001b[0m\u001b[1;33m(\u001b[0m\u001b[1;34m\"Z:\\AIDAILER\\Tony DB 2021\"\u001b[0m \u001b[1;33m,\u001b[0m\u001b[0mstr\u001b[0m\u001b[1;33m(\u001b[0m\u001b[0mnext\u001b[0m\u001b[1;33m(\u001b[0m\u001b[0mlist_of_iter\u001b[0m\u001b[1;33m)\u001b[0m\u001b[1;33m)\u001b[0m\u001b[1;33m)\u001b[0m\u001b[1;33m)\u001b[0m\u001b[1;33m\u001b[0m\u001b[1;33m\u001b[0m\u001b[0m\n\u001b[0m\u001b[0;32m      3\u001b[0m     df=df[['FullPhoneNumber',\n\u001b[0;32m      4\u001b[0m              \u001b[1;34m'state'\u001b[0m\u001b[1;33m,\u001b[0m\u001b[1;33m\u001b[0m\u001b[1;33m\u001b[0m\u001b[0m\n\u001b[0;32m      5\u001b[0m              \u001b[1;34m'estimatedincomecode'\u001b[0m\u001b[1;33m,\u001b[0m\u001b[1;33m\u001b[0m\u001b[1;33m\u001b[0m\u001b[0m\n",
      "\u001b[1;31mStopIteration\u001b[0m: "
     ]
    }
   ],
   "source": [
    "\n",
    "for i in range(len(list_of_dir)):\n",
    "    df = pd.read_csv(os.path.join(\"Z:\\AIDAILER\\Tony DB 2021\" ,str(next(list_of_iter))))\n",
    "    df=df[['FullPhoneNumber',\n",
    "             'state',\n",
    "             'estimatedincomecode',\n",
    "             'personexactage',\n",
    "             'CreditRating',\n",
    "             'cityname',\n",
    "             'ZipCode',\n",
    "             'National DNC']]\n",
    "    \n",
    "    df.rename(columns = {'National DNC':'DONOTCALL'}, inplace = True)\n",
    "    \n",
    "    df['FullPhoneNumber']=df['FullPhoneNumber'].astype(str)\n",
    "    df=df[df['FullPhoneNumber'] != 'nan']\n",
    "    \n",
    "    df['personexactage']=df['personexactage'].astype(str)\n",
    "    df['ZipCode']=df['ZipCode'].astype(str)\n",
    "    \n",
    "    df.to_sql('table_2021', conn, if_exists='append', index = False)\n",
    "    print(i+1, df.shape, list_of_dir[i], 'Appended to Database')"
   ]
  },
  {
   "cell_type": "code",
   "execution_count": 3,
   "id": "a139838e",
   "metadata": {},
   "outputs": [
    {
     "data": {
      "text/html": [
       "<div>\n",
       "<style scoped>\n",
       "    .dataframe tbody tr th:only-of-type {\n",
       "        vertical-align: middle;\n",
       "    }\n",
       "\n",
       "    .dataframe tbody tr th {\n",
       "        vertical-align: top;\n",
       "    }\n",
       "\n",
       "    .dataframe thead th {\n",
       "        text-align: right;\n",
       "    }\n",
       "</style>\n",
       "<table border=\"1\" class=\"dataframe\">\n",
       "  <thead>\n",
       "    <tr style=\"text-align: right;\">\n",
       "      <th></th>\n",
       "      <th>FullPhoneNumber</th>\n",
       "      <th>state</th>\n",
       "      <th>cityname</th>\n",
       "      <th>persongender</th>\n",
       "      <th>personexactage</th>\n",
       "      <th>personmaritalstatus</th>\n",
       "      <th>traveler</th>\n",
       "      <th>ZipCode</th>\n",
       "      <th>investment</th>\n",
       "      <th>estimatedincomecode</th>\n",
       "      <th>timezone</th>\n",
       "      <th>DONOTCALL</th>\n",
       "      <th>PresenceOfCreditCard</th>\n",
       "      <th>CreditRating</th>\n",
       "    </tr>\n",
       "  </thead>\n",
       "  <tbody>\n",
       "    <tr>\n",
       "      <th>0</th>\n",
       "      <td>None</td>\n",
       "      <td>None</td>\n",
       "      <td>None</td>\n",
       "      <td>None</td>\n",
       "      <td>None</td>\n",
       "      <td>None</td>\n",
       "      <td>None</td>\n",
       "      <td>None</td>\n",
       "      <td>None</td>\n",
       "      <td>None</td>\n",
       "      <td>None</td>\n",
       "      <td>None</td>\n",
       "      <td>None</td>\n",
       "      <td>None</td>\n",
       "    </tr>\n",
       "    <tr>\n",
       "      <th>1</th>\n",
       "      <td>9072272643</td>\n",
       "      <td>AK</td>\n",
       "      <td>Hope</td>\n",
       "      <td>None</td>\n",
       "      <td>79</td>\n",
       "      <td>None</td>\n",
       "      <td>None</td>\n",
       "      <td>99605</td>\n",
       "      <td>None</td>\n",
       "      <td>M</td>\n",
       "      <td>None</td>\n",
       "      <td>N</td>\n",
       "      <td>None</td>\n",
       "      <td>B</td>\n",
       "    </tr>\n",
       "    <tr>\n",
       "      <th>2</th>\n",
       "      <td>9073609503</td>\n",
       "      <td>AK</td>\n",
       "      <td>Anchorage</td>\n",
       "      <td>None</td>\n",
       "      <td>77</td>\n",
       "      <td>None</td>\n",
       "      <td>None</td>\n",
       "      <td>99501</td>\n",
       "      <td>None</td>\n",
       "      <td>S</td>\n",
       "      <td>None</td>\n",
       "      <td>Y</td>\n",
       "      <td>None</td>\n",
       "      <td>A</td>\n",
       "    </tr>\n",
       "    <tr>\n",
       "      <th>3</th>\n",
       "      <td>9072742175</td>\n",
       "      <td>AK</td>\n",
       "      <td>Anchorage</td>\n",
       "      <td>None</td>\n",
       "      <td>61</td>\n",
       "      <td>None</td>\n",
       "      <td>None</td>\n",
       "      <td>99501</td>\n",
       "      <td>None</td>\n",
       "      <td>R</td>\n",
       "      <td>None</td>\n",
       "      <td>N</td>\n",
       "      <td>None</td>\n",
       "      <td>B</td>\n",
       "    </tr>\n",
       "    <tr>\n",
       "      <th>4</th>\n",
       "      <td>9072743803</td>\n",
       "      <td>AK</td>\n",
       "      <td>Anchorage</td>\n",
       "      <td>None</td>\n",
       "      <td>80</td>\n",
       "      <td>None</td>\n",
       "      <td>None</td>\n",
       "      <td>99501</td>\n",
       "      <td>None</td>\n",
       "      <td>H</td>\n",
       "      <td>None</td>\n",
       "      <td>N</td>\n",
       "      <td>None</td>\n",
       "      <td>D</td>\n",
       "    </tr>\n",
       "    <tr>\n",
       "      <th>5</th>\n",
       "      <td>9072768688</td>\n",
       "      <td>AK</td>\n",
       "      <td>Anchorage</td>\n",
       "      <td>None</td>\n",
       "      <td>75</td>\n",
       "      <td>None</td>\n",
       "      <td>None</td>\n",
       "      <td>99501</td>\n",
       "      <td>None</td>\n",
       "      <td>R</td>\n",
       "      <td>None</td>\n",
       "      <td>N</td>\n",
       "      <td>None</td>\n",
       "      <td>B</td>\n",
       "    </tr>\n",
       "    <tr>\n",
       "      <th>6</th>\n",
       "      <td>9079526719</td>\n",
       "      <td>AK</td>\n",
       "      <td>Anchorage</td>\n",
       "      <td>None</td>\n",
       "      <td>47</td>\n",
       "      <td>None</td>\n",
       "      <td>None</td>\n",
       "      <td>99501</td>\n",
       "      <td>None</td>\n",
       "      <td>O</td>\n",
       "      <td>None</td>\n",
       "      <td>Y</td>\n",
       "      <td>None</td>\n",
       "      <td>C</td>\n",
       "    </tr>\n",
       "    <tr>\n",
       "      <th>7</th>\n",
       "      <td>9072585104</td>\n",
       "      <td>AK</td>\n",
       "      <td>Anchorage</td>\n",
       "      <td>None</td>\n",
       "      <td>101</td>\n",
       "      <td>None</td>\n",
       "      <td>None</td>\n",
       "      <td>99501</td>\n",
       "      <td>None</td>\n",
       "      <td>N</td>\n",
       "      <td>None</td>\n",
       "      <td>Y</td>\n",
       "      <td>None</td>\n",
       "      <td>B</td>\n",
       "    </tr>\n",
       "    <tr>\n",
       "      <th>8</th>\n",
       "      <td>9072585104</td>\n",
       "      <td>AK</td>\n",
       "      <td>Anchorage</td>\n",
       "      <td>None</td>\n",
       "      <td>101</td>\n",
       "      <td>None</td>\n",
       "      <td>None</td>\n",
       "      <td>99501</td>\n",
       "      <td>None</td>\n",
       "      <td>N</td>\n",
       "      <td>None</td>\n",
       "      <td>Y</td>\n",
       "      <td>None</td>\n",
       "      <td>B</td>\n",
       "    </tr>\n",
       "    <tr>\n",
       "      <th>9</th>\n",
       "      <td>9073981394</td>\n",
       "      <td>AK</td>\n",
       "      <td>Anchorage</td>\n",
       "      <td>None</td>\n",
       "      <td>53</td>\n",
       "      <td>None</td>\n",
       "      <td>None</td>\n",
       "      <td>99501</td>\n",
       "      <td>None</td>\n",
       "      <td>M</td>\n",
       "      <td>None</td>\n",
       "      <td>Y</td>\n",
       "      <td>None</td>\n",
       "      <td>F</td>\n",
       "    </tr>\n",
       "  </tbody>\n",
       "</table>\n",
       "</div>"
      ],
      "text/plain": [
       "  FullPhoneNumber state   cityname persongender personexactage  \\\n",
       "0            None  None       None         None           None   \n",
       "1      9072272643    AK       Hope         None             79   \n",
       "2      9073609503    AK  Anchorage         None             77   \n",
       "3      9072742175    AK  Anchorage         None             61   \n",
       "4      9072743803    AK  Anchorage         None             80   \n",
       "5      9072768688    AK  Anchorage         None             75   \n",
       "6      9079526719    AK  Anchorage         None             47   \n",
       "7      9072585104    AK  Anchorage         None            101   \n",
       "8      9072585104    AK  Anchorage         None            101   \n",
       "9      9073981394    AK  Anchorage         None             53   \n",
       "\n",
       "  personmaritalstatus traveler ZipCode investment estimatedincomecode  \\\n",
       "0                None     None    None       None                None   \n",
       "1                None     None   99605       None                   M   \n",
       "2                None     None   99501       None                   S   \n",
       "3                None     None   99501       None                   R   \n",
       "4                None     None   99501       None                   H   \n",
       "5                None     None   99501       None                   R   \n",
       "6                None     None   99501       None                   O   \n",
       "7                None     None   99501       None                   N   \n",
       "8                None     None   99501       None                   N   \n",
       "9                None     None   99501       None                   M   \n",
       "\n",
       "  timezone DONOTCALL PresenceOfCreditCard CreditRating  \n",
       "0     None      None                 None         None  \n",
       "1     None         N                 None            B  \n",
       "2     None         Y                 None            A  \n",
       "3     None         N                 None            B  \n",
       "4     None         N                 None            D  \n",
       "5     None         N                 None            B  \n",
       "6     None         Y                 None            C  \n",
       "7     None         Y                 None            B  \n",
       "8     None         Y                 None            B  \n",
       "9     None         Y                 None            F  "
      ]
     },
     "execution_count": 3,
     "metadata": {},
     "output_type": "execute_result"
    }
   ],
   "source": [
    "pd.read_sql('''SELECT * FROM table_2021\n",
    "             LIMIT 10''',conn)"
   ]
  },
  {
   "cell_type": "code",
   "execution_count": null,
   "id": "00fb6387",
   "metadata": {},
   "outputs": [],
   "source": []
  }
 ],
 "metadata": {
  "kernelspec": {
   "display_name": "Python 3",
   "language": "python",
   "name": "python3"
  },
  "language_info": {
   "codemirror_mode": {
    "name": "ipython",
    "version": 3
   },
   "file_extension": ".py",
   "mimetype": "text/x-python",
   "name": "python",
   "nbconvert_exporter": "python",
   "pygments_lexer": "ipython3",
   "version": "3.8.8"
  }
 },
 "nbformat": 4,
 "nbformat_minor": 5
}
