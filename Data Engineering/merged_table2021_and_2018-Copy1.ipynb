{
 "cells": [
  {
   "cell_type": "code",
   "execution_count": 7,
   "id": "a7c52380",
   "metadata": {},
   "outputs": [],
   "source": [
    "import sqlite3\n",
    "import pandas as pd"
   ]
  },
  {
   "cell_type": "code",
   "execution_count": 8,
   "id": "ad27c906",
   "metadata": {},
   "outputs": [],
   "source": [
    "import sqlite3\n",
    "conn = sqlite3.connect('my_database.db')\n",
    "c = conn.cursor()"
   ]
  },
  {
   "cell_type": "code",
   "execution_count": 3,
   "id": "aff2a6db",
   "metadata": {},
   "outputs": [
    {
     "data": {
      "text/plain": [
       "<sqlite3.Cursor at 0x2692fc84260>"
      ]
     },
     "execution_count": 3,
     "metadata": {},
     "output_type": "execute_result"
    }
   ],
   "source": [
    "#  c.execute('''DROP TABLE merged_table''')"
   ]
  },
  {
   "cell_type": "code",
   "execution_count": 3,
   "id": "ee239d1c",
   "metadata": {},
   "outputs": [
    {
     "data": {
      "text/plain": [
       "<sqlite3.Cursor at 0x254a4fe5180>"
      ]
     },
     "execution_count": 3,
     "metadata": {},
     "output_type": "execute_result"
    }
   ],
   "source": [
    "c.execute('''CREATE TABLE merged_table (FullPhoneNumber text,state text,cityname text,persongender  text,personexactage text,personmaritalstatus text,traveler text,ZipCode text,investment text,estimatedincomecode text,timezone text,DONOTCALL text,\"PresenceOfCreditCard\" text,CreditRating  text )''')"
   ]
  },
  {
   "cell_type": "code",
   "execution_count": 12,
   "id": "05f13c79",
   "metadata": {},
   "outputs": [
    {
     "data": {
      "text/plain": [
       "<sqlite3.Cursor at 0x254a562d9d0>"
      ]
     },
     "execution_count": 12,
     "metadata": {},
     "output_type": "execute_result"
    }
   ],
   "source": [
    "c.execute('''CREATE TABLE merged_table_1 (FullPhoneNumber text,state text,cityname text,persongender  text,personexactage text,personmaritalstatus text,traveler text,ZipCode text,investment text,estimatedincomecode text,timezone text,DONOTCALL text,\"PresenceOfCreditCard\" text,CreditRating  text )''')"
   ]
  },
  {
   "cell_type": "code",
   "execution_count": null,
   "id": "7d74f9a8",
   "metadata": {},
   "outputs": [],
   "source": [
    "# c.execute('''INSERT INTO merged_table SELECT * FROM table_2018''')                                 "
   ]
  },
  {
   "cell_type": "code",
   "execution_count": 13,
   "id": "f3c0b25c",
   "metadata": {},
   "outputs": [
    {
     "ename": "OperationalError",
     "evalue": "disk I/O error",
     "output_type": "error",
     "traceback": [
      "\u001b[1;31m---------------------------------------------------------------------------\u001b[0m",
      "\u001b[1;31mOperationalError\u001b[0m                          Traceback (most recent call last)",
      "\u001b[1;32mC:\\Users\\TRAINE~1\\AppData\\Local\\Temp/ipykernel_3356/1138900329.py\u001b[0m in \u001b[0;36m<module>\u001b[1;34m\u001b[0m\n\u001b[1;32m----> 1\u001b[1;33m c.execute('''INSERT INTO merged_table_1 SELECT * FROM table_2018 \n\u001b[0m\u001b[0;32m      2\u001b[0m                                     \u001b[0mUNION\u001b[0m\u001b[1;33m\u001b[0m\u001b[1;33m\u001b[0m\u001b[0m\n\u001b[0;32m      3\u001b[0m                                     SELECT * FROM table_2021''')\n",
      "\u001b[1;31mOperationalError\u001b[0m: disk I/O error"
     ]
    }
   ],
   "source": [
    "c.execute('''INSERT INTO merged_table_1 SELECT * FROM table_2018 \n",
    "                                    UNION\n",
    "                                    SELECT * FROM table_2021''')"
   ]
  },
  {
   "cell_type": "code",
   "execution_count": 34,
   "id": "93b7dd57",
   "metadata": {},
   "outputs": [],
   "source": [
    "# pd.read_sql('''SELECT * FROM merged_table\n",
    "#              LIMIT 10''',conn)"
   ]
  },
  {
   "cell_type": "code",
   "execution_count": 35,
   "id": "69d39e04",
   "metadata": {},
   "outputs": [],
   "source": [
    "# # ATTACH DATABASE file_name AS new_db;\n",
    "# c.execute('''USE my_database''')"
   ]
  },
  {
   "cell_type": "code",
   "execution_count": 12,
   "id": "2beb1f37",
   "metadata": {},
   "outputs": [
    {
     "data": {
      "text/plain": [
       "<sqlite3.Cursor at 0x26951dbcb90>"
      ]
     },
     "execution_count": 12,
     "metadata": {},
     "output_type": "execute_result"
    }
   ],
   "source": [
    "# c.execute('''ATTACH DATABASE my_database1 AS merge_db''')"
   ]
  },
  {
   "cell_type": "code",
   "execution_count": 13,
   "id": "adeca293",
   "metadata": {},
   "outputs": [
    {
     "data": {
      "text/plain": [
       "<sqlite3.Cursor at 0x26951dbcb90>"
      ]
     },
     "execution_count": 13,
     "metadata": {},
     "output_type": "execute_result"
    }
   ],
   "source": [
    "# c.execute('''CREATE TABLE merge_db.merged_table(FullPhoneNumber text,state text,cityname text,persongender  text,personexactage text,personmaritalstatus text,traveler text,ZipCode text,investment text,estimatedincomecode text,timezone text,DONOTCALL text,\"PresenceOfCreditCard\" text,CreditRating  text);''')"
   ]
  },
  {
   "cell_type": "code",
   "execution_count": 19,
   "id": "630e7a95",
   "metadata": {},
   "outputs": [
    {
     "data": {
      "text/plain": [
       "<sqlite3.Cursor at 0x26951dbcb90>"
      ]
     },
     "execution_count": 19,
     "metadata": {},
     "output_type": "execute_result"
    }
   ],
   "source": [
    "# c.execute('''INSERT INTO merge_db.merged_table SELECT * FROM table_2018''')"
   ]
  },
  {
   "cell_type": "code",
   "execution_count": 4,
   "id": "7a232813",
   "metadata": {},
   "outputs": [
    {
     "data": {
      "text/plain": [
       "<sqlite3.Cursor at 0x254a4fe5180>"
      ]
     },
     "execution_count": 4,
     "metadata": {},
     "output_type": "execute_result"
    }
   ],
   "source": [
    "c.execute('''INSERT INTO merged_table SELECT * FROM table_2018''')"
   ]
  },
  {
   "cell_type": "code",
   "execution_count": 20,
   "id": "d2f6a13b",
   "metadata": {},
   "outputs": [
    {
     "data": {
      "text/plain": [
       "<sqlite3.Cursor at 0x26951dbcb90>"
      ]
     },
     "execution_count": 20,
     "metadata": {},
     "output_type": "execute_result"
    }
   ],
   "source": [
    "# c.execute('''INSERT INTO merge_db.merged_table SELECT * FROM table_2021''')"
   ]
  },
  {
   "cell_type": "code",
   "execution_count": 5,
   "id": "226b1613",
   "metadata": {},
   "outputs": [
    {
     "data": {
      "text/plain": [
       "<sqlite3.Cursor at 0x254a4fe5180>"
      ]
     },
     "execution_count": 5,
     "metadata": {},
     "output_type": "execute_result"
    }
   ],
   "source": [
    "c.execute('''INSERT INTO merged_table SELECT * FROM table_2021''')"
   ]
  },
  {
   "cell_type": "code",
   "execution_count": 11,
   "id": "5ba2d3de",
   "metadata": {},
   "outputs": [
    {
     "data": {
      "text/html": [
       "<div>\n",
       "<style scoped>\n",
       "    .dataframe tbody tr th:only-of-type {\n",
       "        vertical-align: middle;\n",
       "    }\n",
       "\n",
       "    .dataframe tbody tr th {\n",
       "        vertical-align: top;\n",
       "    }\n",
       "\n",
       "    .dataframe thead th {\n",
       "        text-align: right;\n",
       "    }\n",
       "</style>\n",
       "<table border=\"1\" class=\"dataframe\">\n",
       "  <thead>\n",
       "    <tr style=\"text-align: right;\">\n",
       "      <th></th>\n",
       "      <th>FullPhoneNumber</th>\n",
       "      <th>state</th>\n",
       "      <th>cityname</th>\n",
       "      <th>persongender</th>\n",
       "      <th>personexactage</th>\n",
       "      <th>personmaritalstatus</th>\n",
       "      <th>traveler</th>\n",
       "      <th>ZipCode</th>\n",
       "      <th>investment</th>\n",
       "      <th>estimatedincomecode</th>\n",
       "      <th>timezone</th>\n",
       "      <th>DONOTCALL</th>\n",
       "      <th>PresenceOfCreditCard</th>\n",
       "      <th>CreditRating</th>\n",
       "    </tr>\n",
       "  </thead>\n",
       "  <tbody>\n",
       "  </tbody>\n",
       "</table>\n",
       "</div>"
      ],
      "text/plain": [
       "Empty DataFrame\n",
       "Columns: [FullPhoneNumber, state, cityname, persongender, personexactage, personmaritalstatus, traveler, ZipCode, investment, estimatedincomecode, timezone, DONOTCALL, PresenceOfCreditCard, CreditRating]\n",
       "Index: []"
      ]
     },
     "execution_count": 11,
     "metadata": {},
     "output_type": "execute_result"
    }
   ],
   "source": [
    "sql_File=pd.read_sql('''SELECT * FROM merged_table\n",
    "                       LIMIT 10''',conn)\n",
    "sql_File\n"
   ]
  },
  {
   "cell_type": "code",
   "execution_count": null,
   "id": "57ea97a2",
   "metadata": {},
   "outputs": [],
   "source": []
  }
 ],
 "metadata": {
  "kernelspec": {
   "display_name": "Python 3 (ipykernel)",
   "language": "python",
   "name": "python3"
  },
  "language_info": {
   "codemirror_mode": {
    "name": "ipython",
    "version": 3
   },
   "file_extension": ".py",
   "mimetype": "text/x-python",
   "name": "python",
   "nbconvert_exporter": "python",
   "pygments_lexer": "ipython3",
   "version": "3.9.7"
  }
 },
 "nbformat": 4,
 "nbformat_minor": 5
}
