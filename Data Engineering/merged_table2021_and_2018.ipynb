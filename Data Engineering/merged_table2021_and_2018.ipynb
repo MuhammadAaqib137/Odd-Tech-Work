{
 "cells": [
  {
   "cell_type": "code",
   "execution_count": 1,
   "id": "a7c52380",
   "metadata": {},
   "outputs": [],
   "source": [
    "import sqlite3\n",
    "import pandas as pd"
   ]
  },
  {
   "cell_type": "code",
   "execution_count": 2,
   "id": "ad27c906",
   "metadata": {},
   "outputs": [],
   "source": [
    "import sqlite3\n",
    "conn = sqlite3.connect('my_database.db')\n",
    "c = conn.cursor()"
   ]
  },
  {
   "cell_type": "code",
   "execution_count": 67,
   "id": "aff2a6db",
   "metadata": {},
   "outputs": [],
   "source": [
    "#   c.execute('''DROP TABLE merged_table''')"
   ]
  },
  {
   "cell_type": "code",
   "execution_count": 5,
   "id": "ee239d1c",
   "metadata": {},
   "outputs": [
    {
     "data": {
      "text/plain": [
       "<sqlite3.Cursor at 0x2434bfd2b20>"
      ]
     },
     "execution_count": 5,
     "metadata": {},
     "output_type": "execute_result"
    }
   ],
   "source": [
    "# c.execute('''CREATE TABLE merged_table (FullPhoneNumber text PRIMARY KEY,state text,cityname text,persongender  text,personexactage text,personmaritalstatus text,traveler text,ZipCode text,investment text,estimatedincomecode text,timezone text,DONOTCALL text,\"PresenceOfCreditCard\" text,CreditRating  text )''')"
   ]
  },
  {
   "cell_type": "code",
   "execution_count": null,
   "id": "7d74f9a8",
   "metadata": {},
   "outputs": [],
   "source": [
    "# c.execute('''INSERT INTO merged_table SELECT * FROM table_2018''')                                 "
   ]
  },
  {
   "cell_type": "code",
   "execution_count": 32,
   "id": "f3c0b25c",
   "metadata": {},
   "outputs": [],
   "source": [
    "# c.execute('''INSERT INTO merged_table SELECT * FROM table_2018 \n",
    "#                                     UNION\n",
    "#                                     SELECT * FROM table_2021''')"
   ]
  },
  {
   "cell_type": "code",
   "execution_count": 34,
   "id": "93b7dd57",
   "metadata": {},
   "outputs": [],
   "source": [
    "# pd.read_sql('''SELECT * FROM merged_table\n",
    "#              LIMIT 10''',conn)"
   ]
  },
  {
   "cell_type": "code",
   "execution_count": 35,
   "id": "69d39e04",
   "metadata": {},
   "outputs": [],
   "source": [
    "# ATTACH DATABASE file_name AS new_db;\n",
    "# c.execute('''USE my_database''')"
   ]
  },
  {
   "cell_type": "code",
   "execution_count": 4,
   "id": "6b91ff3c",
   "metadata": {},
   "outputs": [
    {
     "data": {
      "text/plain": [
       "<sqlite3.Cursor at 0x235a4471260>"
      ]
     },
     "execution_count": 4,
     "metadata": {},
     "output_type": "execute_result"
    }
   ],
   "source": [
    "# c.execute('''ATTACH DATABASE cdr_database AS cdr_db''')"
   ]
  },
  {
   "cell_type": "code",
   "execution_count": 3,
   "id": "2beb1f37",
   "metadata": {},
   "outputs": [
    {
     "data": {
      "text/plain": [
       "<sqlite3.Cursor at 0x226571120a0>"
      ]
     },
     "execution_count": 3,
     "metadata": {},
     "output_type": "execute_result"
    }
   ],
   "source": [
    "c.execute('''ATTACH DATABASE my_database1 AS merge_db''')"
   ]
  },
  {
   "cell_type": "code",
   "execution_count": 68,
   "id": "39cd198c",
   "metadata": {},
   "outputs": [],
   "source": [
    "# c.execute('''Drop Table merge_db.Cdr''')"
   ]
  },
  {
   "cell_type": "code",
   "execution_count": 30,
   "id": "2ec2767f",
   "metadata": {},
   "outputs": [
    {
     "data": {
      "text/plain": [
       "<sqlite3.Cursor at 0x18524c84260>"
      ]
     },
     "execution_count": 30,
     "metadata": {},
     "output_type": "execute_result"
    }
   ],
   "source": [
    "c.execute('''CREATE TABLE merge_db.Cdr(FullPhoneNumber text NOT NULL Primary Key , Date text, Duration int)''')"
   ]
  },
  {
   "cell_type": "code",
   "execution_count": 31,
   "id": "34d76088",
   "metadata": {},
   "outputs": [],
   "source": [
    "data = pd.read_csv('Cdr_merged_data.csv')"
   ]
  },
  {
   "cell_type": "code",
   "execution_count": 32,
   "id": "85c1026e",
   "metadata": {},
   "outputs": [
    {
     "data": {
      "text/html": [
       "<div>\n",
       "<style scoped>\n",
       "    .dataframe tbody tr th:only-of-type {\n",
       "        vertical-align: middle;\n",
       "    }\n",
       "\n",
       "    .dataframe tbody tr th {\n",
       "        vertical-align: top;\n",
       "    }\n",
       "\n",
       "    .dataframe thead th {\n",
       "        text-align: right;\n",
       "    }\n",
       "</style>\n",
       "<table border=\"1\" class=\"dataframe\">\n",
       "  <thead>\n",
       "    <tr style=\"text-align: right;\">\n",
       "      <th></th>\n",
       "      <th>Unnamed: 0</th>\n",
       "      <th>FullPhoneNumber</th>\n",
       "      <th>Date</th>\n",
       "      <th>Duration</th>\n",
       "    </tr>\n",
       "  </thead>\n",
       "  <tbody>\n",
       "    <tr>\n",
       "      <th>0</th>\n",
       "      <td>0</td>\n",
       "      <td>9.788367e+09</td>\n",
       "      <td>2021-01-02 15:04:58</td>\n",
       "      <td>0.00</td>\n",
       "    </tr>\n",
       "    <tr>\n",
       "      <th>1</th>\n",
       "      <td>1</td>\n",
       "      <td>6.316652e+09</td>\n",
       "      <td>2021-01-02 15:04:59</td>\n",
       "      <td>29.00</td>\n",
       "    </tr>\n",
       "    <tr>\n",
       "      <th>2</th>\n",
       "      <td>2</td>\n",
       "      <td>9.736973e+09</td>\n",
       "      <td>2021-01-02 15:04:59</td>\n",
       "      <td>33.00</td>\n",
       "    </tr>\n",
       "    <tr>\n",
       "      <th>3</th>\n",
       "      <td>3</td>\n",
       "      <td>5.167999e+09</td>\n",
       "      <td>2021-01-02 15:04:59</td>\n",
       "      <td>34.00</td>\n",
       "    </tr>\n",
       "    <tr>\n",
       "      <th>4</th>\n",
       "      <td>4</td>\n",
       "      <td>8.503003e+09</td>\n",
       "      <td>2021-01-02 15:04:59</td>\n",
       "      <td>0.00</td>\n",
       "    </tr>\n",
       "    <tr>\n",
       "      <th>...</th>\n",
       "      <td>...</td>\n",
       "      <td>...</td>\n",
       "      <td>...</td>\n",
       "      <td>...</td>\n",
       "    </tr>\n",
       "    <tr>\n",
       "      <th>3970537</th>\n",
       "      <td>3970537</td>\n",
       "      <td>1.615715e+10</td>\n",
       "      <td>1/20/2021 15:50</td>\n",
       "      <td>7.69</td>\n",
       "    </tr>\n",
       "    <tr>\n",
       "      <th>3970538</th>\n",
       "      <td>3970538</td>\n",
       "      <td>1.519728e+10</td>\n",
       "      <td>1/20/2021 15:50</td>\n",
       "      <td>2.21</td>\n",
       "    </tr>\n",
       "    <tr>\n",
       "      <th>3970539</th>\n",
       "      <td>3970539</td>\n",
       "      <td>1.412836e+10</td>\n",
       "      <td>1/20/2021 15:50</td>\n",
       "      <td>2.58</td>\n",
       "    </tr>\n",
       "    <tr>\n",
       "      <th>3970540</th>\n",
       "      <td>3970540</td>\n",
       "      <td>1.615500e+10</td>\n",
       "      <td>1/20/2021 15:50</td>\n",
       "      <td>2.15</td>\n",
       "    </tr>\n",
       "    <tr>\n",
       "      <th>3970541</th>\n",
       "      <td>3970541</td>\n",
       "      <td>1.609307e+10</td>\n",
       "      <td>1/20/2021 15:50</td>\n",
       "      <td>0.04</td>\n",
       "    </tr>\n",
       "  </tbody>\n",
       "</table>\n",
       "<p>3970542 rows × 4 columns</p>\n",
       "</div>"
      ],
      "text/plain": [
       "         Unnamed: 0  FullPhoneNumber                 Date  Duration\n",
       "0                 0     9.788367e+09  2021-01-02 15:04:58      0.00\n",
       "1                 1     6.316652e+09  2021-01-02 15:04:59     29.00\n",
       "2                 2     9.736973e+09  2021-01-02 15:04:59     33.00\n",
       "3                 3     5.167999e+09  2021-01-02 15:04:59     34.00\n",
       "4                 4     8.503003e+09  2021-01-02 15:04:59      0.00\n",
       "...             ...              ...                  ...       ...\n",
       "3970537     3970537     1.615715e+10      1/20/2021 15:50      7.69\n",
       "3970538     3970538     1.519728e+10      1/20/2021 15:50      2.21\n",
       "3970539     3970539     1.412836e+10      1/20/2021 15:50      2.58\n",
       "3970540     3970540     1.615500e+10      1/20/2021 15:50      2.15\n",
       "3970541     3970541     1.609307e+10      1/20/2021 15:50      0.04\n",
       "\n",
       "[3970542 rows x 4 columns]"
      ]
     },
     "execution_count": 32,
     "metadata": {},
     "output_type": "execute_result"
    }
   ],
   "source": [
    "data"
   ]
  },
  {
   "cell_type": "code",
   "execution_count": 33,
   "id": "bfa827df",
   "metadata": {},
   "outputs": [],
   "source": [
    "data = data.drop(\"Unnamed: 0\",axis=1)"
   ]
  },
  {
   "cell_type": "code",
   "execution_count": 34,
   "id": "78c19fd8",
   "metadata": {},
   "outputs": [
    {
     "data": {
      "text/html": [
       "<div>\n",
       "<style scoped>\n",
       "    .dataframe tbody tr th:only-of-type {\n",
       "        vertical-align: middle;\n",
       "    }\n",
       "\n",
       "    .dataframe tbody tr th {\n",
       "        vertical-align: top;\n",
       "    }\n",
       "\n",
       "    .dataframe thead th {\n",
       "        text-align: right;\n",
       "    }\n",
       "</style>\n",
       "<table border=\"1\" class=\"dataframe\">\n",
       "  <thead>\n",
       "    <tr style=\"text-align: right;\">\n",
       "      <th></th>\n",
       "      <th>FullPhoneNumber</th>\n",
       "      <th>Date</th>\n",
       "      <th>Duration</th>\n",
       "    </tr>\n",
       "  </thead>\n",
       "  <tbody>\n",
       "    <tr>\n",
       "      <th>0</th>\n",
       "      <td>9.788367e+09</td>\n",
       "      <td>2021-01-02 15:04:58</td>\n",
       "      <td>0.00</td>\n",
       "    </tr>\n",
       "    <tr>\n",
       "      <th>1</th>\n",
       "      <td>6.316652e+09</td>\n",
       "      <td>2021-01-02 15:04:59</td>\n",
       "      <td>29.00</td>\n",
       "    </tr>\n",
       "    <tr>\n",
       "      <th>2</th>\n",
       "      <td>9.736973e+09</td>\n",
       "      <td>2021-01-02 15:04:59</td>\n",
       "      <td>33.00</td>\n",
       "    </tr>\n",
       "    <tr>\n",
       "      <th>3</th>\n",
       "      <td>5.167999e+09</td>\n",
       "      <td>2021-01-02 15:04:59</td>\n",
       "      <td>34.00</td>\n",
       "    </tr>\n",
       "    <tr>\n",
       "      <th>4</th>\n",
       "      <td>8.503003e+09</td>\n",
       "      <td>2021-01-02 15:04:59</td>\n",
       "      <td>0.00</td>\n",
       "    </tr>\n",
       "    <tr>\n",
       "      <th>...</th>\n",
       "      <td>...</td>\n",
       "      <td>...</td>\n",
       "      <td>...</td>\n",
       "    </tr>\n",
       "    <tr>\n",
       "      <th>3970537</th>\n",
       "      <td>1.615715e+10</td>\n",
       "      <td>1/20/2021 15:50</td>\n",
       "      <td>7.69</td>\n",
       "    </tr>\n",
       "    <tr>\n",
       "      <th>3970538</th>\n",
       "      <td>1.519728e+10</td>\n",
       "      <td>1/20/2021 15:50</td>\n",
       "      <td>2.21</td>\n",
       "    </tr>\n",
       "    <tr>\n",
       "      <th>3970539</th>\n",
       "      <td>1.412836e+10</td>\n",
       "      <td>1/20/2021 15:50</td>\n",
       "      <td>2.58</td>\n",
       "    </tr>\n",
       "    <tr>\n",
       "      <th>3970540</th>\n",
       "      <td>1.615500e+10</td>\n",
       "      <td>1/20/2021 15:50</td>\n",
       "      <td>2.15</td>\n",
       "    </tr>\n",
       "    <tr>\n",
       "      <th>3970541</th>\n",
       "      <td>1.609307e+10</td>\n",
       "      <td>1/20/2021 15:50</td>\n",
       "      <td>0.04</td>\n",
       "    </tr>\n",
       "  </tbody>\n",
       "</table>\n",
       "<p>3970542 rows × 3 columns</p>\n",
       "</div>"
      ],
      "text/plain": [
       "         FullPhoneNumber                 Date  Duration\n",
       "0           9.788367e+09  2021-01-02 15:04:58      0.00\n",
       "1           6.316652e+09  2021-01-02 15:04:59     29.00\n",
       "2           9.736973e+09  2021-01-02 15:04:59     33.00\n",
       "3           5.167999e+09  2021-01-02 15:04:59     34.00\n",
       "4           8.503003e+09  2021-01-02 15:04:59      0.00\n",
       "...                  ...                  ...       ...\n",
       "3970537     1.615715e+10      1/20/2021 15:50      7.69\n",
       "3970538     1.519728e+10      1/20/2021 15:50      2.21\n",
       "3970539     1.412836e+10      1/20/2021 15:50      2.58\n",
       "3970540     1.615500e+10      1/20/2021 15:50      2.15\n",
       "3970541     1.609307e+10      1/20/2021 15:50      0.04\n",
       "\n",
       "[3970542 rows x 3 columns]"
      ]
     },
     "execution_count": 34,
     "metadata": {},
     "output_type": "execute_result"
    }
   ],
   "source": [
    "data"
   ]
  },
  {
   "cell_type": "code",
   "execution_count": 35,
   "id": "353845b9",
   "metadata": {},
   "outputs": [],
   "source": [
    "data['FullPhoneNumber'] = data['FullPhoneNumber'].astype(str) "
   ]
  },
  {
   "cell_type": "code",
   "execution_count": 36,
   "id": "f76b9a81",
   "metadata": {},
   "outputs": [],
   "source": [
    "data['Date'] = data['Date'].astype(str)"
   ]
  },
  {
   "cell_type": "code",
   "execution_count": 37,
   "id": "a15a9188",
   "metadata": {},
   "outputs": [],
   "source": [
    "data['Duration'] = data['Duration'].astype(int)"
   ]
  },
  {
   "cell_type": "code",
   "execution_count": 38,
   "id": "a7fc67c5",
   "metadata": {},
   "outputs": [
    {
     "data": {
      "text/html": [
       "<div>\n",
       "<style scoped>\n",
       "    .dataframe tbody tr th:only-of-type {\n",
       "        vertical-align: middle;\n",
       "    }\n",
       "\n",
       "    .dataframe tbody tr th {\n",
       "        vertical-align: top;\n",
       "    }\n",
       "\n",
       "    .dataframe thead th {\n",
       "        text-align: right;\n",
       "    }\n",
       "</style>\n",
       "<table border=\"1\" class=\"dataframe\">\n",
       "  <thead>\n",
       "    <tr style=\"text-align: right;\">\n",
       "      <th></th>\n",
       "      <th>FullPhoneNumber</th>\n",
       "      <th>Date</th>\n",
       "      <th>Duration</th>\n",
       "    </tr>\n",
       "  </thead>\n",
       "  <tbody>\n",
       "    <tr>\n",
       "      <th>0</th>\n",
       "      <td>9788367424.0</td>\n",
       "      <td>2021-01-02 15:04:58</td>\n",
       "      <td>0</td>\n",
       "    </tr>\n",
       "    <tr>\n",
       "      <th>1</th>\n",
       "      <td>6316652128.0</td>\n",
       "      <td>2021-01-02 15:04:59</td>\n",
       "      <td>29</td>\n",
       "    </tr>\n",
       "    <tr>\n",
       "      <th>2</th>\n",
       "      <td>9736973406.0</td>\n",
       "      <td>2021-01-02 15:04:59</td>\n",
       "      <td>33</td>\n",
       "    </tr>\n",
       "    <tr>\n",
       "      <th>3</th>\n",
       "      <td>5167998519.0</td>\n",
       "      <td>2021-01-02 15:04:59</td>\n",
       "      <td>34</td>\n",
       "    </tr>\n",
       "    <tr>\n",
       "      <th>4</th>\n",
       "      <td>8503002557.0</td>\n",
       "      <td>2021-01-02 15:04:59</td>\n",
       "      <td>0</td>\n",
       "    </tr>\n",
       "    <tr>\n",
       "      <th>...</th>\n",
       "      <td>...</td>\n",
       "      <td>...</td>\n",
       "      <td>...</td>\n",
       "    </tr>\n",
       "    <tr>\n",
       "      <th>3970537</th>\n",
       "      <td>16157147558.0</td>\n",
       "      <td>1/20/2021 15:50</td>\n",
       "      <td>7</td>\n",
       "    </tr>\n",
       "    <tr>\n",
       "      <th>3970538</th>\n",
       "      <td>15197283494.0</td>\n",
       "      <td>1/20/2021 15:50</td>\n",
       "      <td>2</td>\n",
       "    </tr>\n",
       "    <tr>\n",
       "      <th>3970539</th>\n",
       "      <td>14128358218.0</td>\n",
       "      <td>1/20/2021 15:50</td>\n",
       "      <td>2</td>\n",
       "    </tr>\n",
       "    <tr>\n",
       "      <th>3970540</th>\n",
       "      <td>16155000761.0</td>\n",
       "      <td>1/20/2021 15:50</td>\n",
       "      <td>2</td>\n",
       "    </tr>\n",
       "    <tr>\n",
       "      <th>3970541</th>\n",
       "      <td>16093065506.0</td>\n",
       "      <td>1/20/2021 15:50</td>\n",
       "      <td>0</td>\n",
       "    </tr>\n",
       "  </tbody>\n",
       "</table>\n",
       "<p>3970542 rows × 3 columns</p>\n",
       "</div>"
      ],
      "text/plain": [
       "        FullPhoneNumber                 Date  Duration\n",
       "0          9788367424.0  2021-01-02 15:04:58         0\n",
       "1          6316652128.0  2021-01-02 15:04:59        29\n",
       "2          9736973406.0  2021-01-02 15:04:59        33\n",
       "3          5167998519.0  2021-01-02 15:04:59        34\n",
       "4          8503002557.0  2021-01-02 15:04:59         0\n",
       "...                 ...                  ...       ...\n",
       "3970537   16157147558.0      1/20/2021 15:50         7\n",
       "3970538   15197283494.0      1/20/2021 15:50         2\n",
       "3970539   14128358218.0      1/20/2021 15:50         2\n",
       "3970540   16155000761.0      1/20/2021 15:50         2\n",
       "3970541   16093065506.0      1/20/2021 15:50         0\n",
       "\n",
       "[3970542 rows x 3 columns]"
      ]
     },
     "execution_count": 38,
     "metadata": {},
     "output_type": "execute_result"
    }
   ],
   "source": [
    "data"
   ]
  },
  {
   "cell_type": "code",
   "execution_count": 41,
   "id": "bee0fa69",
   "metadata": {},
   "outputs": [],
   "source": [
    "data.to_sql('Cdr',conn, if_exists='append',index=False)"
   ]
  },
  {
   "cell_type": "code",
   "execution_count": 80,
   "id": "cfa181d9",
   "metadata": {},
   "outputs": [
    {
     "data": {
      "text/html": [
       "<div>\n",
       "<style scoped>\n",
       "    .dataframe tbody tr th:only-of-type {\n",
       "        vertical-align: middle;\n",
       "    }\n",
       "\n",
       "    .dataframe tbody tr th {\n",
       "        vertical-align: top;\n",
       "    }\n",
       "\n",
       "    .dataframe thead th {\n",
       "        text-align: right;\n",
       "    }\n",
       "</style>\n",
       "<table border=\"1\" class=\"dataframe\">\n",
       "  <thead>\n",
       "    <tr style=\"text-align: right;\">\n",
       "      <th></th>\n",
       "      <th>FullPhoneNumber</th>\n",
       "      <th>Date</th>\n",
       "      <th>Duration</th>\n",
       "    </tr>\n",
       "  </thead>\n",
       "  <tbody>\n",
       "    <tr>\n",
       "      <th>0</th>\n",
       "      <td>9788367424.0</td>\n",
       "      <td>2021-01-02 15:04:58</td>\n",
       "      <td>0</td>\n",
       "    </tr>\n",
       "    <tr>\n",
       "      <th>1</th>\n",
       "      <td>6316652128.0</td>\n",
       "      <td>2021-01-02 15:04:59</td>\n",
       "      <td>29</td>\n",
       "    </tr>\n",
       "    <tr>\n",
       "      <th>2</th>\n",
       "      <td>9736973406.0</td>\n",
       "      <td>2021-01-02 15:04:59</td>\n",
       "      <td>33</td>\n",
       "    </tr>\n",
       "    <tr>\n",
       "      <th>3</th>\n",
       "      <td>5167998519.0</td>\n",
       "      <td>2021-01-02 15:04:59</td>\n",
       "      <td>34</td>\n",
       "    </tr>\n",
       "    <tr>\n",
       "      <th>4</th>\n",
       "      <td>8503002557.0</td>\n",
       "      <td>2021-01-02 15:04:59</td>\n",
       "      <td>0</td>\n",
       "    </tr>\n",
       "    <tr>\n",
       "      <th>...</th>\n",
       "      <td>...</td>\n",
       "      <td>...</td>\n",
       "      <td>...</td>\n",
       "    </tr>\n",
       "    <tr>\n",
       "      <th>95</th>\n",
       "      <td>6143544874.0</td>\n",
       "      <td>2021-01-02 15:05:34</td>\n",
       "      <td>0</td>\n",
       "    </tr>\n",
       "    <tr>\n",
       "      <th>96</th>\n",
       "      <td>9038063719.0</td>\n",
       "      <td>2021-01-02 15:05:35</td>\n",
       "      <td>0</td>\n",
       "    </tr>\n",
       "    <tr>\n",
       "      <th>97</th>\n",
       "      <td>7575152291.0</td>\n",
       "      <td>2021-01-02 15:05:36</td>\n",
       "      <td>0</td>\n",
       "    </tr>\n",
       "    <tr>\n",
       "      <th>98</th>\n",
       "      <td>4103675357.0</td>\n",
       "      <td>2021-01-02 15:05:39</td>\n",
       "      <td>5</td>\n",
       "    </tr>\n",
       "    <tr>\n",
       "      <th>99</th>\n",
       "      <td>8644266171.0</td>\n",
       "      <td>2021-01-02 15:05:39</td>\n",
       "      <td>0</td>\n",
       "    </tr>\n",
       "  </tbody>\n",
       "</table>\n",
       "<p>100 rows × 3 columns</p>\n",
       "</div>"
      ],
      "text/plain": [
       "   FullPhoneNumber                 Date  Duration\n",
       "0     9788367424.0  2021-01-02 15:04:58         0\n",
       "1     6316652128.0  2021-01-02 15:04:59        29\n",
       "2     9736973406.0  2021-01-02 15:04:59        33\n",
       "3     5167998519.0  2021-01-02 15:04:59        34\n",
       "4     8503002557.0  2021-01-02 15:04:59         0\n",
       "..             ...                  ...       ...\n",
       "95    6143544874.0  2021-01-02 15:05:34         0\n",
       "96    9038063719.0  2021-01-02 15:05:35         0\n",
       "97    7575152291.0  2021-01-02 15:05:36         0\n",
       "98    4103675357.0  2021-01-02 15:05:39         5\n",
       "99    8644266171.0  2021-01-02 15:05:39         0\n",
       "\n",
       "[100 rows x 3 columns]"
      ]
     },
     "execution_count": 80,
     "metadata": {},
     "output_type": "execute_result"
    }
   ],
   "source": [
    "sql_merge_Cdr = pd.read_sql('''SELECT * FROM Cdr\n",
    "                            LIMIT 100''',conn)\n",
    "sql_merge_Cdr"
   ]
  },
  {
   "cell_type": "code",
   "execution_count": 92,
   "id": "b31cca13",
   "metadata": {},
   "outputs": [
    {
     "data": {
      "text/plain": [
       "<sqlite3.Cursor at 0x18524c84260>"
      ]
     },
     "execution_count": 92,
     "metadata": {},
     "output_type": "execute_result"
    }
   ],
   "source": [
    "c.execute('''Drop TABLE merge_db.merged_table''')"
   ]
  },
  {
   "cell_type": "code",
   "execution_count": 93,
   "id": "adeca293",
   "metadata": {},
   "outputs": [
    {
     "data": {
      "text/plain": [
       "<sqlite3.Cursor at 0x18524c84260>"
      ]
     },
     "execution_count": 93,
     "metadata": {},
     "output_type": "execute_result"
    }
   ],
   "source": [
    "c.execute('''CREATE TABLE merge_db.merged_table(FullPhoneNumber text , state text,cityname text,persongender  text,personexactage text,personmaritalstatus text,traveler text,ZipCode text,investment text,estimatedincomecode text,timezone text,DONOTCALL text,\"PresenceOfCreditCard\" text,CreditRating  text, Foreign key (FullPhoneNumber) References Cdr(FullPhoneNumber) )''')"
   ]
  },
  {
   "cell_type": "code",
   "execution_count": 94,
   "id": "630e7a95",
   "metadata": {},
   "outputs": [
    {
     "data": {
      "text/plain": [
       "<sqlite3.Cursor at 0x18524c84260>"
      ]
     },
     "execution_count": 94,
     "metadata": {},
     "output_type": "execute_result"
    }
   ],
   "source": [
    "c.execute('''INSERT INTO merge_db.merged_table SELECT * FROM table_2018''')"
   ]
  },
  {
   "cell_type": "code",
   "execution_count": 95,
   "id": "d2f6a13b",
   "metadata": {},
   "outputs": [
    {
     "data": {
      "text/plain": [
       "<sqlite3.Cursor at 0x18524c84260>"
      ]
     },
     "execution_count": 95,
     "metadata": {},
     "output_type": "execute_result"
    }
   ],
   "source": [
    "c.execute('''INSERT INTO merge_db.merged_table SELECT * FROM table_2021''')"
   ]
  },
  {
   "cell_type": "code",
   "execution_count": 3,
   "id": "5ba2d3de",
   "metadata": {},
   "outputs": [
    {
     "ename": "DatabaseError",
     "evalue": "Execution failed on sql 'SELECT * FROM merge_dbmerged_table\n                        LIMIT 200': no such table: merge_dbmerged_table",
     "output_type": "error",
     "traceback": [
      "\u001b[1;31m---------------------------------------------------------------------------\u001b[0m",
      "\u001b[1;31mOperationalError\u001b[0m                          Traceback (most recent call last)",
      "\u001b[1;32m~\\Anaconda3\\lib\\site-packages\\pandas\\io\\sql.py\u001b[0m in \u001b[0;36mexecute\u001b[1;34m(self, *args, **kwargs)\u001b[0m\n\u001b[0;32m   1724\u001b[0m         \u001b[1;32mtry\u001b[0m\u001b[1;33m:\u001b[0m\u001b[1;33m\u001b[0m\u001b[1;33m\u001b[0m\u001b[0m\n\u001b[1;32m-> 1725\u001b[1;33m             \u001b[0mcur\u001b[0m\u001b[1;33m.\u001b[0m\u001b[0mexecute\u001b[0m\u001b[1;33m(\u001b[0m\u001b[1;33m*\u001b[0m\u001b[0margs\u001b[0m\u001b[1;33m,\u001b[0m \u001b[1;33m**\u001b[0m\u001b[0mkwargs\u001b[0m\u001b[1;33m)\u001b[0m\u001b[1;33m\u001b[0m\u001b[1;33m\u001b[0m\u001b[0m\n\u001b[0m\u001b[0;32m   1726\u001b[0m             \u001b[1;32mreturn\u001b[0m \u001b[0mcur\u001b[0m\u001b[1;33m\u001b[0m\u001b[1;33m\u001b[0m\u001b[0m\n",
      "\u001b[1;31mOperationalError\u001b[0m: no such table: merge_dbmerged_table",
      "\nThe above exception was the direct cause of the following exception:\n",
      "\u001b[1;31mDatabaseError\u001b[0m                             Traceback (most recent call last)",
      "\u001b[1;32m<ipython-input-3-3ee6d05ef712>\u001b[0m in \u001b[0;36m<module>\u001b[1;34m\u001b[0m\n\u001b[1;32m----> 1\u001b[1;33m sql_File=pd.read_sql('''SELECT * FROM merge_dbmerged_table\n\u001b[0m\u001b[0;32m      2\u001b[0m                         LIMIT 200''',conn)\n\u001b[0;32m      3\u001b[0m \u001b[0msql_File\u001b[0m\u001b[1;33m\u001b[0m\u001b[1;33m\u001b[0m\u001b[0m\n",
      "\u001b[1;32m~\\Anaconda3\\lib\\site-packages\\pandas\\io\\sql.py\u001b[0m in \u001b[0;36mread_sql\u001b[1;34m(sql, con, index_col, coerce_float, params, parse_dates, columns, chunksize)\u001b[0m\n\u001b[0;32m    493\u001b[0m \u001b[1;33m\u001b[0m\u001b[0m\n\u001b[0;32m    494\u001b[0m     \u001b[1;32mif\u001b[0m \u001b[0misinstance\u001b[0m\u001b[1;33m(\u001b[0m\u001b[0mpandas_sql\u001b[0m\u001b[1;33m,\u001b[0m \u001b[0mSQLiteDatabase\u001b[0m\u001b[1;33m)\u001b[0m\u001b[1;33m:\u001b[0m\u001b[1;33m\u001b[0m\u001b[1;33m\u001b[0m\u001b[0m\n\u001b[1;32m--> 495\u001b[1;33m         return pandas_sql.read_query(\n\u001b[0m\u001b[0;32m    496\u001b[0m             \u001b[0msql\u001b[0m\u001b[1;33m,\u001b[0m\u001b[1;33m\u001b[0m\u001b[1;33m\u001b[0m\u001b[0m\n\u001b[0;32m    497\u001b[0m             \u001b[0mindex_col\u001b[0m\u001b[1;33m=\u001b[0m\u001b[0mindex_col\u001b[0m\u001b[1;33m,\u001b[0m\u001b[1;33m\u001b[0m\u001b[1;33m\u001b[0m\u001b[0m\n",
      "\u001b[1;32m~\\Anaconda3\\lib\\site-packages\\pandas\\io\\sql.py\u001b[0m in \u001b[0;36mread_query\u001b[1;34m(self, sql, index_col, coerce_float, params, parse_dates, chunksize)\u001b[0m\n\u001b[0;32m   1769\u001b[0m \u001b[1;33m\u001b[0m\u001b[0m\n\u001b[0;32m   1770\u001b[0m         \u001b[0margs\u001b[0m \u001b[1;33m=\u001b[0m \u001b[0m_convert_params\u001b[0m\u001b[1;33m(\u001b[0m\u001b[0msql\u001b[0m\u001b[1;33m,\u001b[0m \u001b[0mparams\u001b[0m\u001b[1;33m)\u001b[0m\u001b[1;33m\u001b[0m\u001b[1;33m\u001b[0m\u001b[0m\n\u001b[1;32m-> 1771\u001b[1;33m         \u001b[0mcursor\u001b[0m \u001b[1;33m=\u001b[0m \u001b[0mself\u001b[0m\u001b[1;33m.\u001b[0m\u001b[0mexecute\u001b[0m\u001b[1;33m(\u001b[0m\u001b[1;33m*\u001b[0m\u001b[0margs\u001b[0m\u001b[1;33m)\u001b[0m\u001b[1;33m\u001b[0m\u001b[1;33m\u001b[0m\u001b[0m\n\u001b[0m\u001b[0;32m   1772\u001b[0m         \u001b[0mcolumns\u001b[0m \u001b[1;33m=\u001b[0m \u001b[1;33m[\u001b[0m\u001b[0mcol_desc\u001b[0m\u001b[1;33m[\u001b[0m\u001b[1;36m0\u001b[0m\u001b[1;33m]\u001b[0m \u001b[1;32mfor\u001b[0m \u001b[0mcol_desc\u001b[0m \u001b[1;32min\u001b[0m \u001b[0mcursor\u001b[0m\u001b[1;33m.\u001b[0m\u001b[0mdescription\u001b[0m\u001b[1;33m]\u001b[0m\u001b[1;33m\u001b[0m\u001b[1;33m\u001b[0m\u001b[0m\n\u001b[0;32m   1773\u001b[0m \u001b[1;33m\u001b[0m\u001b[0m\n",
      "\u001b[1;32m~\\Anaconda3\\lib\\site-packages\\pandas\\io\\sql.py\u001b[0m in \u001b[0;36mexecute\u001b[1;34m(self, *args, **kwargs)\u001b[0m\n\u001b[0;32m   1735\u001b[0m \u001b[1;33m\u001b[0m\u001b[0m\n\u001b[0;32m   1736\u001b[0m             \u001b[0mex\u001b[0m \u001b[1;33m=\u001b[0m \u001b[0mDatabaseError\u001b[0m\u001b[1;33m(\u001b[0m\u001b[1;34mf\"Execution failed on sql '{args[0]}': {exc}\"\u001b[0m\u001b[1;33m)\u001b[0m\u001b[1;33m\u001b[0m\u001b[1;33m\u001b[0m\u001b[0m\n\u001b[1;32m-> 1737\u001b[1;33m             \u001b[1;32mraise\u001b[0m \u001b[0mex\u001b[0m \u001b[1;32mfrom\u001b[0m \u001b[0mexc\u001b[0m\u001b[1;33m\u001b[0m\u001b[1;33m\u001b[0m\u001b[0m\n\u001b[0m\u001b[0;32m   1738\u001b[0m \u001b[1;33m\u001b[0m\u001b[0m\n\u001b[0;32m   1739\u001b[0m     \u001b[1;33m@\u001b[0m\u001b[0mstaticmethod\u001b[0m\u001b[1;33m\u001b[0m\u001b[1;33m\u001b[0m\u001b[0m\n",
      "\u001b[1;31mDatabaseError\u001b[0m: Execution failed on sql 'SELECT * FROM merge_dbmerged_table\n                        LIMIT 200': no such table: merge_dbmerged_table"
     ]
    }
   ],
   "source": [
    "sql_File=pd.read_sql('''SELECT * FROM merge_db.merged_table\n",
    "                        LIMIT 200''',conn)\n",
    "sql_File\n"
   ]
  },
  {
   "cell_type": "code",
   "execution_count": 4,
   "id": "57ea97a2",
   "metadata": {},
   "outputs": [
    {
     "ename": "DatabaseError",
     "evalue": "Execution failed on sql 'SELECT * FROM  merged_table\n                    LIMIT 150': no such table: merged_table",
     "output_type": "error",
     "traceback": [
      "\u001b[1;31m---------------------------------------------------------------------------\u001b[0m",
      "\u001b[1;31mOperationalError\u001b[0m                          Traceback (most recent call last)",
      "\u001b[1;32m~\\Anaconda3\\lib\\site-packages\\pandas\\io\\sql.py\u001b[0m in \u001b[0;36mexecute\u001b[1;34m(self, *args, **kwargs)\u001b[0m\n\u001b[0;32m   1724\u001b[0m         \u001b[1;32mtry\u001b[0m\u001b[1;33m:\u001b[0m\u001b[1;33m\u001b[0m\u001b[1;33m\u001b[0m\u001b[0m\n\u001b[1;32m-> 1725\u001b[1;33m             \u001b[0mcur\u001b[0m\u001b[1;33m.\u001b[0m\u001b[0mexecute\u001b[0m\u001b[1;33m(\u001b[0m\u001b[1;33m*\u001b[0m\u001b[0margs\u001b[0m\u001b[1;33m,\u001b[0m \u001b[1;33m**\u001b[0m\u001b[0mkwargs\u001b[0m\u001b[1;33m)\u001b[0m\u001b[1;33m\u001b[0m\u001b[1;33m\u001b[0m\u001b[0m\n\u001b[0m\u001b[0;32m   1726\u001b[0m             \u001b[1;32mreturn\u001b[0m \u001b[0mcur\u001b[0m\u001b[1;33m\u001b[0m\u001b[1;33m\u001b[0m\u001b[0m\n",
      "\u001b[1;31mOperationalError\u001b[0m: no such table: merged_table",
      "\nThe above exception was the direct cause of the following exception:\n",
      "\u001b[1;31mDatabaseError\u001b[0m                             Traceback (most recent call last)",
      "\u001b[1;32m<ipython-input-4-0d9fd1973e0a>\u001b[0m in \u001b[0;36m<module>\u001b[1;34m\u001b[0m\n\u001b[1;32m----> 1\u001b[1;33m sql = pd.read_sql('''SELECT * FROM  merged_table\n\u001b[0m\u001b[0;32m      2\u001b[0m                     LIMIT 150''',conn)\n\u001b[0;32m      3\u001b[0m \u001b[0msql\u001b[0m\u001b[1;33m\u001b[0m\u001b[1;33m\u001b[0m\u001b[0m\n",
      "\u001b[1;32m~\\Anaconda3\\lib\\site-packages\\pandas\\io\\sql.py\u001b[0m in \u001b[0;36mread_sql\u001b[1;34m(sql, con, index_col, coerce_float, params, parse_dates, columns, chunksize)\u001b[0m\n\u001b[0;32m    493\u001b[0m \u001b[1;33m\u001b[0m\u001b[0m\n\u001b[0;32m    494\u001b[0m     \u001b[1;32mif\u001b[0m \u001b[0misinstance\u001b[0m\u001b[1;33m(\u001b[0m\u001b[0mpandas_sql\u001b[0m\u001b[1;33m,\u001b[0m \u001b[0mSQLiteDatabase\u001b[0m\u001b[1;33m)\u001b[0m\u001b[1;33m:\u001b[0m\u001b[1;33m\u001b[0m\u001b[1;33m\u001b[0m\u001b[0m\n\u001b[1;32m--> 495\u001b[1;33m         return pandas_sql.read_query(\n\u001b[0m\u001b[0;32m    496\u001b[0m             \u001b[0msql\u001b[0m\u001b[1;33m,\u001b[0m\u001b[1;33m\u001b[0m\u001b[1;33m\u001b[0m\u001b[0m\n\u001b[0;32m    497\u001b[0m             \u001b[0mindex_col\u001b[0m\u001b[1;33m=\u001b[0m\u001b[0mindex_col\u001b[0m\u001b[1;33m,\u001b[0m\u001b[1;33m\u001b[0m\u001b[1;33m\u001b[0m\u001b[0m\n",
      "\u001b[1;32m~\\Anaconda3\\lib\\site-packages\\pandas\\io\\sql.py\u001b[0m in \u001b[0;36mread_query\u001b[1;34m(self, sql, index_col, coerce_float, params, parse_dates, chunksize)\u001b[0m\n\u001b[0;32m   1769\u001b[0m \u001b[1;33m\u001b[0m\u001b[0m\n\u001b[0;32m   1770\u001b[0m         \u001b[0margs\u001b[0m \u001b[1;33m=\u001b[0m \u001b[0m_convert_params\u001b[0m\u001b[1;33m(\u001b[0m\u001b[0msql\u001b[0m\u001b[1;33m,\u001b[0m \u001b[0mparams\u001b[0m\u001b[1;33m)\u001b[0m\u001b[1;33m\u001b[0m\u001b[1;33m\u001b[0m\u001b[0m\n\u001b[1;32m-> 1771\u001b[1;33m         \u001b[0mcursor\u001b[0m \u001b[1;33m=\u001b[0m \u001b[0mself\u001b[0m\u001b[1;33m.\u001b[0m\u001b[0mexecute\u001b[0m\u001b[1;33m(\u001b[0m\u001b[1;33m*\u001b[0m\u001b[0margs\u001b[0m\u001b[1;33m)\u001b[0m\u001b[1;33m\u001b[0m\u001b[1;33m\u001b[0m\u001b[0m\n\u001b[0m\u001b[0;32m   1772\u001b[0m         \u001b[0mcolumns\u001b[0m \u001b[1;33m=\u001b[0m \u001b[1;33m[\u001b[0m\u001b[0mcol_desc\u001b[0m\u001b[1;33m[\u001b[0m\u001b[1;36m0\u001b[0m\u001b[1;33m]\u001b[0m \u001b[1;32mfor\u001b[0m \u001b[0mcol_desc\u001b[0m \u001b[1;32min\u001b[0m \u001b[0mcursor\u001b[0m\u001b[1;33m.\u001b[0m\u001b[0mdescription\u001b[0m\u001b[1;33m]\u001b[0m\u001b[1;33m\u001b[0m\u001b[1;33m\u001b[0m\u001b[0m\n\u001b[0;32m   1773\u001b[0m \u001b[1;33m\u001b[0m\u001b[0m\n",
      "\u001b[1;32m~\\Anaconda3\\lib\\site-packages\\pandas\\io\\sql.py\u001b[0m in \u001b[0;36mexecute\u001b[1;34m(self, *args, **kwargs)\u001b[0m\n\u001b[0;32m   1735\u001b[0m \u001b[1;33m\u001b[0m\u001b[0m\n\u001b[0;32m   1736\u001b[0m             \u001b[0mex\u001b[0m \u001b[1;33m=\u001b[0m \u001b[0mDatabaseError\u001b[0m\u001b[1;33m(\u001b[0m\u001b[1;34mf\"Execution failed on sql '{args[0]}': {exc}\"\u001b[0m\u001b[1;33m)\u001b[0m\u001b[1;33m\u001b[0m\u001b[1;33m\u001b[0m\u001b[0m\n\u001b[1;32m-> 1737\u001b[1;33m             \u001b[1;32mraise\u001b[0m \u001b[0mex\u001b[0m \u001b[1;32mfrom\u001b[0m \u001b[0mexc\u001b[0m\u001b[1;33m\u001b[0m\u001b[1;33m\u001b[0m\u001b[0m\n\u001b[0m\u001b[0;32m   1738\u001b[0m \u001b[1;33m\u001b[0m\u001b[0m\n\u001b[0;32m   1739\u001b[0m     \u001b[1;33m@\u001b[0m\u001b[0mstaticmethod\u001b[0m\u001b[1;33m\u001b[0m\u001b[1;33m\u001b[0m\u001b[0m\n",
      "\u001b[1;31mDatabaseError\u001b[0m: Execution failed on sql 'SELECT * FROM  merged_table\n                    LIMIT 150': no such table: merged_table"
     ]
    }
   ],
   "source": [
    "sql = pd.read_sql('''SELECT * FROM  merged_table\n",
    "                    LIMIT 150''',conn)\n",
    "sql"
   ]
  },
  {
   "cell_type": "markdown",
   "id": "6c833941",
   "metadata": {},
   "source": [
    "# Creating Final Table By joining Cdr and merge data of 2018 and 2021"
   ]
  },
  {
   "cell_type": "code",
   "execution_count": null,
   "id": "901bab63",
   "metadata": {},
   "outputs": [],
   "source": []
  },
  {
   "cell_type": "code",
   "execution_count": null,
   "id": "3725f71a",
   "metadata": {},
   "outputs": [],
   "source": [
    "pd.read_sql('''SELECT *  FROM Cdr as c\n",
    "                        INNER JOIN  merged_table as merge\n",
    "                        On c.FullPhoneNumber=merge.FullPhoneNumber\n",
    "                        LIMIT 200''',conn).to_csv('Final_data.csv')"
   ]
  },
  {
   "cell_type": "code",
   "execution_count": 82,
   "id": "97a32bc0",
   "metadata": {},
   "outputs": [
    {
     "ename": "OperationalError",
     "evalue": "database Final_database is already in use",
     "output_type": "error",
     "traceback": [
      "\u001b[1;31m---------------------------------------------------------------------------\u001b[0m",
      "\u001b[1;31mOperationalError\u001b[0m                          Traceback (most recent call last)",
      "\u001b[1;32m<ipython-input-82-d236481b83cb>\u001b[0m in \u001b[0;36m<module>\u001b[1;34m\u001b[0m\n\u001b[1;32m----> 1\u001b[1;33m \u001b[0mc\u001b[0m\u001b[1;33m.\u001b[0m\u001b[0mexecute\u001b[0m\u001b[1;33m(\u001b[0m\u001b[1;34m'''ATTACH DATABASE Final_db as Final_database'''\u001b[0m\u001b[1;33m)\u001b[0m\u001b[1;33m\u001b[0m\u001b[1;33m\u001b[0m\u001b[0m\n\u001b[0m",
      "\u001b[1;31mOperationalError\u001b[0m: database Final_database is already in use"
     ]
    }
   ],
   "source": [
    "c.execute('''ATTACH DATABASE Final_db as Final_database''')"
   ]
  },
  {
   "cell_type": "code",
   "execution_count": 83,
   "id": "d38099c8",
   "metadata": {},
   "outputs": [
    {
     "ename": "OperationalError",
     "evalue": "table Final_db already exists",
     "output_type": "error",
     "traceback": [
      "\u001b[1;31m---------------------------------------------------------------------------\u001b[0m",
      "\u001b[1;31mOperationalError\u001b[0m                          Traceback (most recent call last)",
      "\u001b[1;32m<ipython-input-83-491e6dfdd05d>\u001b[0m in \u001b[0;36m<module>\u001b[1;34m\u001b[0m\n\u001b[1;32m----> 1\u001b[1;33m \u001b[0mc\u001b[0m\u001b[1;33m.\u001b[0m\u001b[0mexecute\u001b[0m\u001b[1;33m(\u001b[0m\u001b[1;34m'''CREATE TABLE Final_db(FullPhoneNumber text , state text,cityname text,persongender  text,personexactage text,personmaritalstatus text,traveler text,ZipCode text,investment text,estimatedincomecode text,timezone text,DONOTCALL text,\"PresenceOfCreditCard\" text,CreditRating  text,Date text, Duration int )'''\u001b[0m\u001b[1;33m)\u001b[0m\u001b[1;33m\u001b[0m\u001b[1;33m\u001b[0m\u001b[0m\n\u001b[0m",
      "\u001b[1;31mOperationalError\u001b[0m: table Final_db already exists"
     ]
    }
   ],
   "source": [
    "c.execute('''CREATE TABLE Final_db(FullPhoneNumber text , state text,cityname text,persongender  text,personexactage text,personmaritalstatus text,traveler text,ZipCode text,investment text,estimatedincomecode text,timezone text,DONOTCALL text,\"PresenceOfCreditCard\" text,CreditRating  text,Date text, Duration int )''')"
   ]
  },
  {
   "cell_type": "code",
   "execution_count": 85,
   "id": "5e1f5eac",
   "metadata": {},
   "outputs": [
    {
     "data": {
      "text/plain": [
       "<sqlite3.Cursor at 0x18524c84260>"
      ]
     },
     "execution_count": 85,
     "metadata": {},
     "output_type": "execute_result"
    }
   ],
   "source": [
    "c.execute('''INSERT INTO Final_db SELECT merge.FullPhoneNumber, state,cityname,\n",
    "    persongender,personexactage,personmaritalstatus,traveler ,ZipCode ,\n",
    "    investment, merge.estimatedincomecode,merge.timezone,DONOTCALL,PresenceOfCreditCard,\n",
    "    CreditRating,Date,Duration  FROM merged_table as merge\n",
    "                        INNER JOIN  Cdr as c\n",
    "                        On c.FullPhoneNumber=merge.FullPhoneNumber''')"
   ]
  },
  {
   "cell_type": "code",
   "execution_count": 86,
   "id": "ad8e58a8",
   "metadata": {},
   "outputs": [
    {
     "data": {
      "text/html": [
       "<div>\n",
       "<style scoped>\n",
       "    .dataframe tbody tr th:only-of-type {\n",
       "        vertical-align: middle;\n",
       "    }\n",
       "\n",
       "    .dataframe tbody tr th {\n",
       "        vertical-align: top;\n",
       "    }\n",
       "\n",
       "    .dataframe thead th {\n",
       "        text-align: right;\n",
       "    }\n",
       "</style>\n",
       "<table border=\"1\" class=\"dataframe\">\n",
       "  <thead>\n",
       "    <tr style=\"text-align: right;\">\n",
       "      <th></th>\n",
       "      <th>FullPhoneNumber</th>\n",
       "      <th>state</th>\n",
       "      <th>cityname</th>\n",
       "      <th>persongender</th>\n",
       "      <th>personexactage</th>\n",
       "      <th>personmaritalstatus</th>\n",
       "      <th>traveler</th>\n",
       "      <th>ZipCode</th>\n",
       "      <th>investment</th>\n",
       "      <th>estimatedincomecode</th>\n",
       "      <th>timezone</th>\n",
       "      <th>DONOTCALL</th>\n",
       "      <th>PresenceOfCreditCard</th>\n",
       "      <th>CreditRating</th>\n",
       "      <th>Date</th>\n",
       "      <th>Duration</th>\n",
       "    </tr>\n",
       "  </thead>\n",
       "  <tbody>\n",
       "  </tbody>\n",
       "</table>\n",
       "</div>"
      ],
      "text/plain": [
       "Empty DataFrame\n",
       "Columns: [FullPhoneNumber, state, cityname, persongender, personexactage, personmaritalstatus, traveler, ZipCode, investment, estimatedincomecode, timezone, DONOTCALL, PresenceOfCreditCard, CreditRating, Date, Duration]\n",
       "Index: []"
      ]
     },
     "execution_count": 86,
     "metadata": {},
     "output_type": "execute_result"
    }
   ],
   "source": [
    "sql = pd.read_sql('''SELECT * FROM Final_db\n",
    "                    LIMIT 10''',conn)\n",
    "sql"
   ]
  },
  {
   "cell_type": "code",
   "execution_count": null,
   "id": "e896ca72",
   "metadata": {},
   "outputs": [],
   "source": []
  }
 ],
 "metadata": {
  "kernelspec": {
   "display_name": "Python 3 (ipykernel)",
   "language": "python",
   "name": "python3"
  },
  "language_info": {
   "codemirror_mode": {
    "name": "ipython",
    "version": 3
   },
   "file_extension": ".py",
   "mimetype": "text/x-python",
   "name": "python",
   "nbconvert_exporter": "python",
   "pygments_lexer": "ipython3",
   "version": "3.9.7"
  }
 },
 "nbformat": 4,
 "nbformat_minor": 5
}
