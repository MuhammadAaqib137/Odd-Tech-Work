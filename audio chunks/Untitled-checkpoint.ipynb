{
 "cells": [
  {
   "cell_type": "code",
   "execution_count": 1,
   "id": "49c7cebb",
   "metadata": {},
   "outputs": [],
   "source": [
    "import os"
   ]
  },
  {
   "cell_type": "code",
   "execution_count": 2,
   "id": "d5c46eb3",
   "metadata": {},
   "outputs": [],
   "source": [
    "chunks= os.listdir(r'Z:\\audios\\T_1')"
   ]
  },
  {
   "cell_type": "code",
   "execution_count": 4,
   "id": "95232756",
   "metadata": {},
   "outputs": [],
   "source": [
    "new_chunks= os.listdir(r'C:\\Users\\trainee8\\Desktop\\Muhammad Aaqib\\chunk_Data')"
   ]
  },
  {
   "cell_type": "code",
   "execution_count": 5,
   "id": "d8772c82",
   "metadata": {},
   "outputs": [
    {
     "data": {
      "text/plain": [
       "39144"
      ]
     },
     "execution_count": 5,
     "metadata": {},
     "output_type": "execute_result"
    }
   ],
   "source": [
    "len(new_chunks)"
   ]
  },
  {
   "cell_type": "code",
   "execution_count": 47,
   "id": "521e412f",
   "metadata": {},
   "outputs": [
    {
     "data": {
      "text/plain": [
       "'ARI6-1634936547.9491-in.wav'"
      ]
     },
     "execution_count": 47,
     "metadata": {},
     "output_type": "execute_result"
    }
   ],
   "source": [
    "chunks[24572]"
   ]
  },
  {
   "cell_type": "code",
   "execution_count": 48,
   "id": "ed3961ca",
   "metadata": {},
   "outputs": [],
   "source": [
    "for i in new_chunks:\n",
    "    if 'ARI6-1634936547.9491' in i:\n",
    "        print(new_chunks.index(i), i)"
   ]
  },
  {
   "cell_type": "code",
   "execution_count": null,
   "id": "56c480f6",
   "metadata": {},
   "outputs": [],
   "source": []
  }
 ],
 "metadata": {
  "kernelspec": {
   "display_name": "Python 3",
   "language": "python",
   "name": "python3"
  },
  "language_info": {
   "codemirror_mode": {
    "name": "ipython",
    "version": 3
   },
   "file_extension": ".py",
   "mimetype": "text/x-python",
   "name": "python",
   "nbconvert_exporter": "python",
   "pygments_lexer": "ipython3",
   "version": "3.8.8"
  }
 },
 "nbformat": 4,
 "nbformat_minor": 5
}
